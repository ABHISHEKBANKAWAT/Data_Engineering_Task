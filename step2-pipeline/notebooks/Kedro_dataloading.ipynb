{
 "cells": [
  {
   "cell_type": "code",
   "execution_count": 8,
   "metadata": {},
   "outputs": [],
   "source": [
    "from kedro.io import DataCatalog\n",
    "from kedro_datasets.pandas import (\n",
    "    CSVDataset,\n",
    "    SQLTableDataset,\n",
    "    SQLQueryDataset,\n",
    "    ParquetDataset,\n",
    ")"
   ]
  },
  {
   "cell_type": "code",
   "execution_count": 9,
   "metadata": {},
   "outputs": [],
   "source": [
    "sqlite_db = 'sqlite:///C:/Users/ABHISHEK BANKAWAT/Desktop/Data_Engineering_Task/Dataset/MedicalData.db'"
   ]
  },
  {
   "cell_type": "code",
   "execution_count": 10,
   "metadata": {},
   "outputs": [],
   "source": [
    "catalog =  DataCatalog(\n",
    "    {\n",
    "        \"raw_patient_data\": SQLQueryDataset(\n",
    "            sql=\"SELECT * FROM patients\",\n",
    "            credentials=dict(con=sqlite_db)\n",
    "        ),\n",
    "        \"raw_conditions_data\": SQLQueryDataset(\n",
    "            sql=\"SELECT * FROM conditions\",\n",
    "            credentials=dict(con=sqlite_db)\n",
    "        ),\n",
    "        \"raw_encounters_data\": SQLQueryDataset(\n",
    "            sql=\"SELECT * FROM encounters\",\n",
    "            credentials=dict(con=sqlite_db)\n",
    "        ),\n",
    "        \"raw_medications_data\": SQLQueryDataset(\n",
    "            sql=\"SELECT * FROM medications\",\n",
    "            credentials=dict(con=sqlite_db)\n",
    "        ),\n",
    "        \"raw_symptoms_data\": SQLQueryDataset(\n",
    "            sql=\"SELECT * FROM symptoms\",\n",
    "            credentials=dict(con=sqlite_db)\n",
    "        ),\n",
    "        \"raw_patient_gender_data\": SQLQueryDataset(\n",
    "            sql=\"SELECT * FROM patient_gender\",\n",
    "            credentials=dict(con=sqlite_db)\n",
    "        ),\n",
    "    }\n",
    ")"
   ]
  },
  {
   "cell_type": "code",
   "execution_count": 11,
   "metadata": {},
   "outputs": [
    {
     "data": {
      "text/html": [
       "<pre style=\"white-space:pre;overflow-x:auto;line-height:normal;font-family:Menlo,'DejaVu Sans Mono',consolas,'Courier New',monospace\"></pre>\n"
      ],
      "text/plain": []
     },
     "metadata": {},
     "output_type": "display_data"
    },
    {
     "data": {
      "text/plain": [
       "\n",
       "\u001b[1m[\u001b[0m\n",
       "    \u001b[32m'raw_patient_data'\u001b[0m,\n",
       "    \u001b[32m'raw_conditions_data'\u001b[0m,\n",
       "    \u001b[32m'raw_encounters_data'\u001b[0m,\n",
       "    \u001b[32m'raw_medications_data'\u001b[0m,\n",
       "    \u001b[32m'raw_symptoms_data'\u001b[0m,\n",
       "    \u001b[32m'raw_patient_gender_data'\u001b[0m\n",
       "\u001b[1m]\u001b[0m"
      ]
     },
     "execution_count": 11,
     "metadata": {},
     "output_type": "execute_result"
    }
   ],
   "source": [
    "catalog.list()"
   ]
  },
  {
   "cell_type": "code",
   "execution_count": 12,
   "metadata": {},
   "outputs": [
    {
     "data": {
      "text/html": [
       "<pre style=\"white-space:pre;overflow-x:auto;line-height:normal;font-family:Menlo,'DejaVu Sans Mono',consolas,'Courier New',monospace\"><span style=\"color: #7fbfbf; text-decoration-color: #7fbfbf\">[11/28/24 12:34:55] </span><span style=\"color: #000080; text-decoration-color: #000080\">INFO    </span> Loading data from <span style=\"color: #ff8700; text-decoration-color: #ff8700\">raw_patient_data</span> <span style=\"font-weight: bold\">(</span>SQLQueryDataset<span style=\"font-weight: bold\">)</span><span style=\"color: #808000; text-decoration-color: #808000\">...</span>            <span style=\"color: #7f7f7f; text-decoration-color: #7f7f7f\">data_catalog.py:389</span>\n",
       "</pre>\n"
      ],
      "text/plain": [
       "\u001b[2;36m[11/28/24 12:34:55]\u001b[0m\u001b[2;36m \u001b[0m\u001b[34mINFO    \u001b[0m Loading data from \u001b[38;5;208mraw_patient_data\u001b[0m \u001b[1m(\u001b[0mSQLQueryDataset\u001b[1m)\u001b[0m\u001b[33m...\u001b[0m            \u001b[2mdata_catalog.py\u001b[0m\u001b[2m:\u001b[0m\u001b[2m389\u001b[0m\n"
      ]
     },
     "metadata": {},
     "output_type": "display_data"
    }
   ],
   "source": [
    "raw_patient_data = catalog.load(\"raw_patient_data\") "
   ]
  },
  {
   "cell_type": "code",
   "execution_count": 13,
   "metadata": {},
   "outputs": [
    {
     "data": {
      "text/html": [
       "<pre style=\"white-space:pre;overflow-x:auto;line-height:normal;font-family:Menlo,'DejaVu Sans Mono',consolas,'Courier New',monospace\"></pre>\n"
      ],
      "text/plain": []
     },
     "metadata": {},
     "output_type": "display_data"
    },
    {
     "data": {
      "text/html": [
       "<div>\n",
       "<style scoped>\n",
       "    .dataframe tbody tr th:only-of-type {\n",
       "        vertical-align: middle;\n",
       "    }\n",
       "\n",
       "    .dataframe tbody tr th {\n",
       "        vertical-align: top;\n",
       "    }\n",
       "\n",
       "    .dataframe thead th {\n",
       "        text-align: right;\n",
       "    }\n",
       "</style>\n",
       "<table border=\"1\" class=\"dataframe\">\n",
       "  <thead>\n",
       "    <tr style=\"text-align: right;\">\n",
       "      <th></th>\n",
       "      <th>column1</th>\n",
       "      <th>column2</th>\n",
       "      <th>column3</th>\n",
       "      <th>column4</th>\n",
       "      <th>column5</th>\n",
       "      <th>column6</th>\n",
       "      <th>column7</th>\n",
       "      <th>column8</th>\n",
       "      <th>column9</th>\n",
       "      <th>column10</th>\n",
       "      <th>...</th>\n",
       "      <th>column18</th>\n",
       "      <th>column19</th>\n",
       "      <th>column20</th>\n",
       "      <th>column21</th>\n",
       "      <th>column22</th>\n",
       "      <th>column23</th>\n",
       "      <th>column24</th>\n",
       "      <th>column25</th>\n",
       "      <th>column26</th>\n",
       "      <th>column27</th>\n",
       "    </tr>\n",
       "  </thead>\n",
       "  <tbody>\n",
       "    <tr>\n",
       "      <th>0</th>\n",
       "      <td>PATIENT_ID</td>\n",
       "      <td>BIRTHDATE</td>\n",
       "      <td>DEATHDATE</td>\n",
       "      <td>SSN</td>\n",
       "      <td>DRIVERS</td>\n",
       "      <td>PASSPORT</td>\n",
       "      <td>PREFIX</td>\n",
       "      <td>FIRST</td>\n",
       "      <td>LAST</td>\n",
       "      <td>SUFFIX</td>\n",
       "      <td>...</td>\n",
       "      <td>CITY</td>\n",
       "      <td>STATE</td>\n",
       "      <td>COUNTY</td>\n",
       "      <td>FIPS</td>\n",
       "      <td>ZIP</td>\n",
       "      <td>LAT</td>\n",
       "      <td>LON</td>\n",
       "      <td>HEALTHCARE_EXPENSES</td>\n",
       "      <td>HEALTHCARE_COVERAGE</td>\n",
       "      <td>INCOME</td>\n",
       "    </tr>\n",
       "    <tr>\n",
       "      <th>1</th>\n",
       "      <td>54f1059e-6250-3949-6dd0-1dda9b85d22a</td>\n",
       "      <td>2002-01-21</td>\n",
       "      <td></td>\n",
       "      <td>999-28-3364</td>\n",
       "      <td>S99987398</td>\n",
       "      <td>X44428214X</td>\n",
       "      <td>Ms.</td>\n",
       "      <td>Fredricka415</td>\n",
       "      <td>Crist667</td>\n",
       "      <td></td>\n",
       "      <td>...</td>\n",
       "      <td>Fort Worth</td>\n",
       "      <td>Texas</td>\n",
       "      <td>Tarrant County</td>\n",
       "      <td>48439.0</td>\n",
       "      <td>76104</td>\n",
       "      <td>0.32915370924816917</td>\n",
       "      <td>-97.39955327981274</td>\n",
       "      <td>9990.08</td>\n",
       "      <td>0.0</td>\n",
       "      <td>35460</td>\n",
       "    </tr>\n",
       "    <tr>\n",
       "      <th>2</th>\n",
       "      <td>92675303-ca5b-136a-169b-e764c5753f06</td>\n",
       "      <td>1997-04-16</td>\n",
       "      <td></td>\n",
       "      <td>999-62-9859</td>\n",
       "      <td>S99999770</td>\n",
       "      <td>X75016560X</td>\n",
       "      <td>Mr.</td>\n",
       "      <td>Lorenzo669</td>\n",
       "      <td>Urrutia540</td>\n",
       "      <td></td>\n",
       "      <td>...</td>\n",
       "      <td>Arlington</td>\n",
       "      <td>Texas</td>\n",
       "      <td>Tarrant County</td>\n",
       "      <td>48439.0</td>\n",
       "      <td>76006</td>\n",
       "      <td>0.32814485490345807</td>\n",
       "      <td>-97.06888454003922</td>\n",
       "      <td>10936.8</td>\n",
       "      <td>0.0</td>\n",
       "      <td>88407</td>\n",
       "    </tr>\n",
       "  </tbody>\n",
       "</table>\n",
       "<p>3 rows × 27 columns</p>\n",
       "</div>"
      ],
      "text/plain": [
       "\n",
       "                                column1     column2    column3      column4  \\\n",
       "\u001b[1;36m0\u001b[0m                            PATIENT_ID   BIRTHDATE  DEATHDATE          SSN   \n",
       "\u001b[1;36m1\u001b[0m  \u001b[93m54f1059e-6250-3949-6dd0-1dda9b85d22a\u001b[0m  \u001b[1;36m2002\u001b[0m-\u001b[1;36m01\u001b[0m-\u001b[1;36m21\u001b[0m             \u001b[1;36m999\u001b[0m-\u001b[1;36m28\u001b[0m-\u001b[1;36m3364\u001b[0m   \n",
       "\u001b[1;36m2\u001b[0m  \u001b[93m92675303-ca5b-136a-169b-e764c5753f06\u001b[0m  \u001b[1;36m1997\u001b[0m-\u001b[1;36m04\u001b[0m-\u001b[1;36m16\u001b[0m             \u001b[1;36m999\u001b[0m-\u001b[1;36m62\u001b[0m-\u001b[1;36m9859\u001b[0m   \n",
       "\n",
       "     column5     column6 column7       column8     column9 column10  \u001b[33m...\u001b[0m  \\\n",
       "\u001b[1;36m0\u001b[0m    DRIVERS    PASSPORT  PREFIX         FIRST        LAST   SUFFIX  \u001b[33m...\u001b[0m   \n",
       "\u001b[1;36m1\u001b[0m  S99987398  X44428214X     Ms.  Fredricka415    Crist667           \u001b[33m...\u001b[0m   \n",
       "\u001b[1;36m2\u001b[0m  S99999770  X75016560X     Mr.    Lorenzo669  Urrutia540           \u001b[33m...\u001b[0m   \n",
       "\n",
       "     column18 column19        column20 column21 column22             column23  \\\n",
       "\u001b[1;36m0\u001b[0m        CITY    STATE          COUNTY     FIPS      ZIP                  LAT   \n",
       "\u001b[1;36m1\u001b[0m  Fort Worth    Texas  Tarrant County  \u001b[1;36m48439.0\u001b[0m    \u001b[1;36m76104\u001b[0m  \u001b[1;36m0.32915370924816917\u001b[0m   \n",
       "\u001b[1;36m2\u001b[0m   Arlington    Texas  Tarrant County  \u001b[1;36m48439.0\u001b[0m    \u001b[1;36m76006\u001b[0m  \u001b[1;36m0.32814485490345807\u001b[0m   \n",
       "\n",
       "             column24             column25             column26 column27  \n",
       "\u001b[1;36m0\u001b[0m                 LON  HEALTHCARE_EXPENSES  HEALTHCARE_COVERAGE   INCOME  \n",
       "\u001b[1;36m1\u001b[0m  \u001b[1;36m-97.39955327981274\u001b[0m              \u001b[1;36m9990.08\u001b[0m                  \u001b[1;36m0.0\u001b[0m    \u001b[1;36m35460\u001b[0m  \n",
       "\u001b[1;36m2\u001b[0m  \u001b[1;36m-97.06888454003922\u001b[0m              \u001b[1;36m10936.8\u001b[0m                  \u001b[1;36m0.0\u001b[0m    \u001b[1;36m88407\u001b[0m  \n",
       "\n",
       "\u001b[1m[\u001b[0m\u001b[1;36m3\u001b[0m rows x \u001b[1;36m27\u001b[0m columns\u001b[1m]\u001b[0m"
      ]
     },
     "execution_count": 13,
     "metadata": {},
     "output_type": "execute_result"
    }
   ],
   "source": [
    "raw_patient_data.iloc[0:3]"
   ]
  },
  {
   "cell_type": "code",
   "execution_count": null,
   "metadata": {},
   "outputs": [],
   "source": []
  },
  {
   "cell_type": "code",
   "execution_count": null,
   "metadata": {},
   "outputs": [],
   "source": []
  }
 ],
 "metadata": {
  "kernelspec": {
   "display_name": ".venv",
   "language": "python",
   "name": "python3"
  },
  "language_info": {
   "codemirror_mode": {
    "name": "ipython",
    "version": 3
   },
   "file_extension": ".py",
   "mimetype": "text/x-python",
   "name": "python",
   "nbconvert_exporter": "python",
   "pygments_lexer": "ipython3",
   "version": "3.12.3"
  }
 },
 "nbformat": 4,
 "nbformat_minor": 2
}
