{
 "cells": [
  {
   "cell_type": "code",
   "execution_count": 1,
   "id": "0ffd0cfd-f859-4e00-8e99-945ecde0f967",
   "metadata": {},
   "outputs": [
    {
     "data": {
      "text/html": [
       "<pre style=\"white-space:pre;overflow-x:auto;line-height:normal;font-family:Menlo,'DejaVu Sans Mono',consolas,'Courier New',monospace\"><span style=\"color: #800000; text-decoration-color: #800000\">╭─────────────────────────────── </span><span style=\"color: #800000; text-decoration-color: #800000; font-weight: bold\">Traceback </span><span style=\"color: #bf7f7f; text-decoration-color: #bf7f7f; font-weight: bold\">(most recent call last)</span><span style=\"color: #800000; text-decoration-color: #800000\"> ────────────────────────────────╮</span>\n",
       "<span style=\"color: #800000; text-decoration-color: #800000\">│</span> in <span style=\"color: #00ff00; text-decoration-color: #00ff00\">&lt;module&gt;</span>:<span style=\"color: #0000ff; text-decoration-color: #0000ff\">1</span>                                                                                    <span style=\"color: #800000; text-decoration-color: #800000\">│</span>\n",
       "<span style=\"color: #800000; text-decoration-color: #800000\">│</span>                                                                                                  <span style=\"color: #800000; text-decoration-color: #800000\">│</span>\n",
       "<span style=\"color: #800000; text-decoration-color: #800000\">│</span> <span style=\"color: #800000; text-decoration-color: #800000\">❱ </span>1 <span style=\"font-weight: bold; text-decoration: underline\">context</span>                                                                                      <span style=\"color: #800000; text-decoration-color: #800000\">│</span>\n",
       "<span style=\"color: #800000; text-decoration-color: #800000\">│</span>   <span style=\"color: #7f7f7f; text-decoration-color: #7f7f7f\">2 </span>                                                                                             <span style=\"color: #800000; text-decoration-color: #800000\">│</span>\n",
       "<span style=\"color: #800000; text-decoration-color: #800000\">╰──────────────────────────────────────────────────────────────────────────────────────────────────╯</span>\n",
       "<span style=\"color: #ff0000; text-decoration-color: #ff0000; font-weight: bold\">NameError: </span>name <span style=\"color: #008000; text-decoration-color: #008000\">'context'</span> is not defined\n",
       "</pre>\n"
      ],
      "text/plain": [
       "\u001b[31m╭─\u001b[0m\u001b[31m──────────────────────────────\u001b[0m\u001b[31m \u001b[0m\u001b[1;31mTraceback \u001b[0m\u001b[1;2;31m(most recent call last)\u001b[0m\u001b[31m \u001b[0m\u001b[31m───────────────────────────────\u001b[0m\u001b[31m─╮\u001b[0m\n",
       "\u001b[31m│\u001b[0m in \u001b[92m<module>\u001b[0m:\u001b[94m1\u001b[0m                                                                                    \u001b[31m│\u001b[0m\n",
       "\u001b[31m│\u001b[0m                                                                                                  \u001b[31m│\u001b[0m\n",
       "\u001b[31m│\u001b[0m \u001b[31m❱ \u001b[0m1 \u001b[1;4mcontext\u001b[0m                                                                                      \u001b[31m│\u001b[0m\n",
       "\u001b[31m│\u001b[0m   \u001b[2m2 \u001b[0m                                                                                             \u001b[31m│\u001b[0m\n",
       "\u001b[31m╰──────────────────────────────────────────────────────────────────────────────────────────────────╯\u001b[0m\n",
       "\u001b[1;91mNameError: \u001b[0mname \u001b[32m'context'\u001b[0m is not defined\n"
      ]
     },
     "metadata": {},
     "output_type": "display_data"
    }
   ],
   "source": [
    "context"
   ]
  },
  {
   "cell_type": "code",
   "execution_count": 2,
   "id": "bc3177af-66c7-4a63-b847-797d9fb0c955",
   "metadata": {},
   "outputs": [
    {
     "data": {
      "text/html": [
       "<pre style=\"white-space:pre;overflow-x:auto;line-height:normal;font-family:Menlo,'DejaVu Sans Mono',consolas,'Courier New',monospace\"><span style=\"color: #800000; text-decoration-color: #800000\">╭─────────────────────────────── </span><span style=\"color: #800000; text-decoration-color: #800000; font-weight: bold\">Traceback </span><span style=\"color: #bf7f7f; text-decoration-color: #bf7f7f; font-weight: bold\">(most recent call last)</span><span style=\"color: #800000; text-decoration-color: #800000\"> ────────────────────────────────╮</span>\n",
       "<span style=\"color: #800000; text-decoration-color: #800000\">│</span> in <span style=\"color: #00ff00; text-decoration-color: #00ff00\">&lt;module&gt;</span>:<span style=\"color: #0000ff; text-decoration-color: #0000ff\">1</span>                                                                                    <span style=\"color: #800000; text-decoration-color: #800000\">│</span>\n",
       "<span style=\"color: #800000; text-decoration-color: #800000\">│</span>                                                                                                  <span style=\"color: #800000; text-decoration-color: #800000\">│</span>\n",
       "<span style=\"color: #800000; text-decoration-color: #800000\">│</span> <span style=\"color: #800000; text-decoration-color: #800000\">❱ </span>1 <span style=\"font-weight: bold; text-decoration: underline\">catalog</span>.list()                                                                               <span style=\"color: #800000; text-decoration-color: #800000\">│</span>\n",
       "<span style=\"color: #800000; text-decoration-color: #800000\">│</span>   <span style=\"color: #7f7f7f; text-decoration-color: #7f7f7f\">2 </span>                                                                                             <span style=\"color: #800000; text-decoration-color: #800000\">│</span>\n",
       "<span style=\"color: #800000; text-decoration-color: #800000\">╰──────────────────────────────────────────────────────────────────────────────────────────────────╯</span>\n",
       "<span style=\"color: #ff0000; text-decoration-color: #ff0000; font-weight: bold\">NameError: </span>name <span style=\"color: #008000; text-decoration-color: #008000\">'catalog'</span> is not defined\n",
       "</pre>\n"
      ],
      "text/plain": [
       "\u001b[31m╭─\u001b[0m\u001b[31m──────────────────────────────\u001b[0m\u001b[31m \u001b[0m\u001b[1;31mTraceback \u001b[0m\u001b[1;2;31m(most recent call last)\u001b[0m\u001b[31m \u001b[0m\u001b[31m───────────────────────────────\u001b[0m\u001b[31m─╮\u001b[0m\n",
       "\u001b[31m│\u001b[0m in \u001b[92m<module>\u001b[0m:\u001b[94m1\u001b[0m                                                                                    \u001b[31m│\u001b[0m\n",
       "\u001b[31m│\u001b[0m                                                                                                  \u001b[31m│\u001b[0m\n",
       "\u001b[31m│\u001b[0m \u001b[31m❱ \u001b[0m1 \u001b[1;4mcatalog\u001b[0m.list()                                                                               \u001b[31m│\u001b[0m\n",
       "\u001b[31m│\u001b[0m   \u001b[2m2 \u001b[0m                                                                                             \u001b[31m│\u001b[0m\n",
       "\u001b[31m╰──────────────────────────────────────────────────────────────────────────────────────────────────╯\u001b[0m\n",
       "\u001b[1;91mNameError: \u001b[0mname \u001b[32m'catalog'\u001b[0m is not defined\n"
      ]
     },
     "metadata": {},
     "output_type": "display_data"
    }
   ],
   "source": [
    "catalog.list()"
   ]
  },
  {
   "cell_type": "code",
   "execution_count": 17,
   "id": "014d8937-94db-47c1-847a-f5ab2b647814",
   "metadata": {},
   "outputs": [
    {
     "data": {
      "text/html": [
       "<pre style=\"white-space:pre;overflow-x:auto;line-height:normal;font-family:Menlo,'DejaVu Sans Mono',consolas,'Courier New',monospace\"><span style=\"color: #7fbfbf; text-decoration-color: #7fbfbf\">[11/28/24 18:43:46] </span><span style=\"color: #000080; text-decoration-color: #000080\">INFO    </span> Loading data from <span style=\"color: #ff8700; text-decoration-color: #ff8700\">raw_patient_data</span> <span style=\"font-weight: bold\">(</span>SQLTableDataset<span style=\"font-weight: bold\">)</span><span style=\"color: #808000; text-decoration-color: #808000\">...</span>            <span style=\"color: #7f7f7f; text-decoration-color: #7f7f7f\">data_catalog.py:389</span>\n",
       "</pre>\n"
      ],
      "text/plain": [
       "\u001b[2;36m[11/28/24 18:43:46]\u001b[0m\u001b[2;36m \u001b[0m\u001b[34mINFO    \u001b[0m Loading data from \u001b[38;5;208mraw_patient_data\u001b[0m \u001b[1m(\u001b[0mSQLTableDataset\u001b[1m)\u001b[0m\u001b[33m...\u001b[0m            \u001b[2mdata_catalog.py\u001b[0m\u001b[2m:\u001b[0m\u001b[2m389\u001b[0m\n"
      ]
     },
     "metadata": {},
     "output_type": "display_data"
    }
   ],
   "source": [
    "raw_patient_data =  catalog.load('raw_patient_data')"
   ]
  },
  {
   "cell_type": "code",
   "execution_count": 13,
   "id": "aa9bc05b-b64d-42ca-b2d3-272a7638496f",
   "metadata": {},
   "outputs": [
    {
     "data": {
      "text/html": [
       "<pre style=\"white-space:pre;overflow-x:auto;line-height:normal;font-family:Menlo,'DejaVu Sans Mono',consolas,'Courier New',monospace\"><span style=\"color: #7fbfbf; text-decoration-color: #7fbfbf\">[11/28/24 18:43:06] </span><span style=\"color: #000080; text-decoration-color: #000080\">INFO    </span> Loading data from <span style=\"color: #ff8700; text-decoration-color: #ff8700\">raw_conditions_data</span> <span style=\"font-weight: bold\">(</span>SQLTableDataset<span style=\"font-weight: bold\">)</span><span style=\"color: #808000; text-decoration-color: #808000\">...</span>         <span style=\"color: #7f7f7f; text-decoration-color: #7f7f7f\">data_catalog.py:389</span>\n",
       "</pre>\n"
      ],
      "text/plain": [
       "\u001b[2;36m[11/28/24 18:43:06]\u001b[0m\u001b[2;36m \u001b[0m\u001b[34mINFO    \u001b[0m Loading data from \u001b[38;5;208mraw_conditions_data\u001b[0m \u001b[1m(\u001b[0mSQLTableDataset\u001b[1m)\u001b[0m\u001b[33m...\u001b[0m         \u001b[2mdata_catalog.py\u001b[0m\u001b[2m:\u001b[0m\u001b[2m389\u001b[0m\n"
      ]
     },
     "metadata": {},
     "output_type": "display_data"
    }
   ],
   "source": [
    "raw_patient_data =  catalog.load('raw_conditions_data')"
   ]
  },
  {
   "cell_type": "code",
   "execution_count": 18,
   "id": "1edbcbaa-b29f-4a38-896e-349eb2945d11",
   "metadata": {},
   "outputs": [
    {
     "data": {
      "text/html": [
       "<pre style=\"white-space:pre;overflow-x:auto;line-height:normal;font-family:Menlo,'DejaVu Sans Mono',consolas,'Courier New',monospace\"></pre>\n"
      ],
      "text/plain": []
     },
     "metadata": {},
     "output_type": "display_data"
    },
    {
     "data": {
      "text/html": [
       "<div>\n",
       "<style scoped>\n",
       "    .dataframe tbody tr th:only-of-type {\n",
       "        vertical-align: middle;\n",
       "    }\n",
       "\n",
       "    .dataframe tbody tr th {\n",
       "        vertical-align: top;\n",
       "    }\n",
       "\n",
       "    .dataframe thead th {\n",
       "        text-align: right;\n",
       "    }\n",
       "</style>\n",
       "<table border=\"1\" class=\"dataframe\">\n",
       "  <thead>\n",
       "    <tr style=\"text-align: right;\">\n",
       "      <th></th>\n",
       "      <th>PATIENT_ID</th>\n",
       "      <th>BIRTHDATE</th>\n",
       "      <th>DEATHDATE</th>\n",
       "      <th>SSN</th>\n",
       "      <th>DRIVERS</th>\n",
       "      <th>PASSPORT</th>\n",
       "      <th>PREFIX</th>\n",
       "      <th>FIRST</th>\n",
       "      <th>LAST</th>\n",
       "      <th>SUFFIX</th>\n",
       "      <th>...</th>\n",
       "      <th>CITY</th>\n",
       "      <th>STATE</th>\n",
       "      <th>COUNTY</th>\n",
       "      <th>FIPS</th>\n",
       "      <th>ZIP</th>\n",
       "      <th>LAT</th>\n",
       "      <th>LON</th>\n",
       "      <th>HEALTHCARE_EXPENSES</th>\n",
       "      <th>HEALTHCARE_COVERAGE</th>\n",
       "      <th>INCOME</th>\n",
       "    </tr>\n",
       "  </thead>\n",
       "  <tbody>\n",
       "    <tr>\n",
       "      <th>0</th>\n",
       "      <td>54f1059e-6250-3949-6dd0-1dda9b85d22a</td>\n",
       "      <td>2002-01-21</td>\n",
       "      <td></td>\n",
       "      <td>999-28-3364</td>\n",
       "      <td>S99987398</td>\n",
       "      <td>X44428214X</td>\n",
       "      <td>Ms.</td>\n",
       "      <td>Fredricka415</td>\n",
       "      <td>Crist667</td>\n",
       "      <td></td>\n",
       "      <td>...</td>\n",
       "      <td>Fort Worth</td>\n",
       "      <td>Texas</td>\n",
       "      <td>Tarrant County</td>\n",
       "      <td>48439.0</td>\n",
       "      <td>76104</td>\n",
       "      <td>0.32915370924816917</td>\n",
       "      <td>-97.39955327981274</td>\n",
       "      <td>9990.08</td>\n",
       "      <td>0.0</td>\n",
       "      <td>35460</td>\n",
       "    </tr>\n",
       "    <tr>\n",
       "      <th>1</th>\n",
       "      <td>92675303-ca5b-136a-169b-e764c5753f06</td>\n",
       "      <td>1997-04-16</td>\n",
       "      <td></td>\n",
       "      <td>999-62-9859</td>\n",
       "      <td>S99999770</td>\n",
       "      <td>X75016560X</td>\n",
       "      <td>Mr.</td>\n",
       "      <td>Lorenzo669</td>\n",
       "      <td>Urrutia540</td>\n",
       "      <td></td>\n",
       "      <td>...</td>\n",
       "      <td>Arlington</td>\n",
       "      <td>Texas</td>\n",
       "      <td>Tarrant County</td>\n",
       "      <td>48439.0</td>\n",
       "      <td>76006</td>\n",
       "      <td>0.32814485490345807</td>\n",
       "      <td>-97.06888454003922</td>\n",
       "      <td>10936.8</td>\n",
       "      <td>0.0</td>\n",
       "      <td>88407</td>\n",
       "    </tr>\n",
       "    <tr>\n",
       "      <th>2</th>\n",
       "      <td>a0b63e97-b6fd-5fe1-8f2d-2bec915efa97</td>\n",
       "      <td>1993-02-04</td>\n",
       "      <td></td>\n",
       "      <td>999-53-6488</td>\n",
       "      <td>S99979170</td>\n",
       "      <td>X60079936X</td>\n",
       "      <td>Mr.</td>\n",
       "      <td>Luther918</td>\n",
       "      <td>MacGyver246</td>\n",
       "      <td></td>\n",
       "      <td>...</td>\n",
       "      <td>Houston</td>\n",
       "      <td>Texas</td>\n",
       "      <td>Harris County</td>\n",
       "      <td>48339.0</td>\n",
       "      <td>77357</td>\n",
       "      <td>0.300834261436362</td>\n",
       "      <td>-95.64970638672403</td>\n",
       "      <td>10662.16</td>\n",
       "      <td>0.0</td>\n",
       "      <td>41800</td>\n",
       "    </tr>\n",
       "    <tr>\n",
       "      <th>3</th>\n",
       "      <td>abc59f62-dc5a-5095-1141-80b4ee8be73b</td>\n",
       "      <td>1995-05-23</td>\n",
       "      <td></td>\n",
       "      <td>999-37-1058</td>\n",
       "      <td>S99981031</td>\n",
       "      <td>X14759314X</td>\n",
       "      <td>Mrs.</td>\n",
       "      <td>Jacque955</td>\n",
       "      <td>Jones311</td>\n",
       "      <td></td>\n",
       "      <td>...</td>\n",
       "      <td>Waco</td>\n",
       "      <td>Texas</td>\n",
       "      <td>McLennan County</td>\n",
       "      <td>48309.0</td>\n",
       "      <td>76655</td>\n",
       "      <td>0.31517286057156235</td>\n",
       "      <td>-97.2925575053258</td>\n",
       "      <td>11455.93</td>\n",
       "      <td>0.0</td>\n",
       "      <td>41915</td>\n",
       "    </tr>\n",
       "    <tr>\n",
       "      <th>4</th>\n",
       "      <td>28d7b56c-6056-d0a2-2991-39d6e917216c</td>\n",
       "      <td>1993-11-13</td>\n",
       "      <td></td>\n",
       "      <td>999-31-6091</td>\n",
       "      <td>S99958903</td>\n",
       "      <td>X63033472X</td>\n",
       "      <td>Mrs.</td>\n",
       "      <td>Angela104</td>\n",
       "      <td>Stanton715</td>\n",
       "      <td></td>\n",
       "      <td>...</td>\n",
       "      <td>Levelland</td>\n",
       "      <td>Texas</td>\n",
       "      <td>Hockley County</td>\n",
       "      <td>48219.0</td>\n",
       "      <td>79336</td>\n",
       "      <td>0.33703727709837006</td>\n",
       "      <td>-102.3618288012336</td>\n",
       "      <td>12449.11</td>\n",
       "      <td>0.0</td>\n",
       "      <td>67198</td>\n",
       "    </tr>\n",
       "  </tbody>\n",
       "</table>\n",
       "<p>5 rows × 27 columns</p>\n",
       "</div>"
      ],
      "text/plain": [
       "\n",
       "                             PATIENT_ID   BIRTHDATE DEATHDATE          SSN  \\\n",
       "\u001b[1;36m0\u001b[0m  \u001b[93m54f1059e-6250-3949-6dd0-1dda9b85d22a\u001b[0m  \u001b[1;36m2002\u001b[0m-\u001b[1;36m01\u001b[0m-\u001b[1;36m21\u001b[0m            \u001b[1;36m999\u001b[0m-\u001b[1;36m28\u001b[0m-\u001b[1;36m3364\u001b[0m   \n",
       "\u001b[1;36m1\u001b[0m  \u001b[93m92675303-ca5b-136a-169b-e764c5753f06\u001b[0m  \u001b[1;36m1997\u001b[0m-\u001b[1;36m04\u001b[0m-\u001b[1;36m16\u001b[0m            \u001b[1;36m999\u001b[0m-\u001b[1;36m62\u001b[0m-\u001b[1;36m9859\u001b[0m   \n",
       "\u001b[1;36m2\u001b[0m  \u001b[93ma0b63e97-b6fd-5fe1-8f2d-2bec915efa97\u001b[0m  \u001b[1;36m1993\u001b[0m-\u001b[1;36m02\u001b[0m-\u001b[1;36m04\u001b[0m            \u001b[1;36m999\u001b[0m-\u001b[1;36m53\u001b[0m-\u001b[1;36m6488\u001b[0m   \n",
       "\u001b[1;36m3\u001b[0m  \u001b[93mabc59f62-dc5a-5095-1141-80b4ee8be73b\u001b[0m  \u001b[1;36m1995\u001b[0m-\u001b[1;36m05\u001b[0m-\u001b[1;36m23\u001b[0m            \u001b[1;36m999\u001b[0m-\u001b[1;36m37\u001b[0m-\u001b[1;36m1058\u001b[0m   \n",
       "\u001b[1;36m4\u001b[0m  \u001b[93m28d7b56c-6056-d0a2-2991-39d6e917216c\u001b[0m  \u001b[1;36m1993\u001b[0m-\u001b[1;36m11\u001b[0m-\u001b[1;36m13\u001b[0m            \u001b[1;36m999\u001b[0m-\u001b[1;36m31\u001b[0m-\u001b[1;36m6091\u001b[0m   \n",
       "\n",
       "     DRIVERS    PASSPORT PREFIX         FIRST         LAST SUFFIX  \u001b[33m...\u001b[0m  \\\n",
       "\u001b[1;36m0\u001b[0m  S99987398  X44428214X    Ms.  Fredricka415     Crist667         \u001b[33m...\u001b[0m   \n",
       "\u001b[1;36m1\u001b[0m  S99999770  X75016560X    Mr.    Lorenzo669   Urrutia540         \u001b[33m...\u001b[0m   \n",
       "\u001b[1;36m2\u001b[0m  S99979170  X60079936X    Mr.     Luther918  MacGyver246         \u001b[33m...\u001b[0m   \n",
       "\u001b[1;36m3\u001b[0m  S99981031  X14759314X   Mrs.     Jacque955     Jones311         \u001b[33m...\u001b[0m   \n",
       "\u001b[1;36m4\u001b[0m  S99958903  X63033472X   Mrs.     Angela104   Stanton715         \u001b[33m...\u001b[0m   \n",
       "\n",
       "         CITY  STATE           COUNTY     FIPS    ZIP                  LAT  \\\n",
       "\u001b[1;36m0\u001b[0m  Fort Worth  Texas   Tarrant County  \u001b[1;36m48439.0\u001b[0m  \u001b[1;36m76104\u001b[0m  \u001b[1;36m0.32915370924816917\u001b[0m   \n",
       "\u001b[1;36m1\u001b[0m   Arlington  Texas   Tarrant County  \u001b[1;36m48439.0\u001b[0m  \u001b[1;36m76006\u001b[0m  \u001b[1;36m0.32814485490345807\u001b[0m   \n",
       "\u001b[1;36m2\u001b[0m     Houston  Texas    Harris County  \u001b[1;36m48339.0\u001b[0m  \u001b[1;36m77357\u001b[0m    \u001b[1;36m0.300834261436362\u001b[0m   \n",
       "\u001b[1;36m3\u001b[0m        Waco  Texas  McLennan County  \u001b[1;36m48309.0\u001b[0m  \u001b[1;36m76655\u001b[0m  \u001b[1;36m0.31517286057156235\u001b[0m   \n",
       "\u001b[1;36m4\u001b[0m   Levelland  Texas   Hockley County  \u001b[1;36m48219.0\u001b[0m  \u001b[1;36m79336\u001b[0m  \u001b[1;36m0.33703727709837006\u001b[0m   \n",
       "\n",
       "                  LON HEALTHCARE_EXPENSES HEALTHCARE_COVERAGE INCOME  \n",
       "\u001b[1;36m0\u001b[0m  \u001b[1;36m-97.39955327981274\u001b[0m             \u001b[1;36m9990.08\u001b[0m                 \u001b[1;36m0.0\u001b[0m  \u001b[1;36m35460\u001b[0m  \n",
       "\u001b[1;36m1\u001b[0m  \u001b[1;36m-97.06888454003922\u001b[0m             \u001b[1;36m10936.8\u001b[0m                 \u001b[1;36m0.0\u001b[0m  \u001b[1;36m88407\u001b[0m  \n",
       "\u001b[1;36m2\u001b[0m  \u001b[1;36m-95.64970638672403\u001b[0m            \u001b[1;36m10662.16\u001b[0m                 \u001b[1;36m0.0\u001b[0m  \u001b[1;36m41800\u001b[0m  \n",
       "\u001b[1;36m3\u001b[0m   \u001b[1;36m-97.2925575053258\u001b[0m            \u001b[1;36m11455.93\u001b[0m                 \u001b[1;36m0.0\u001b[0m  \u001b[1;36m41915\u001b[0m  \n",
       "\u001b[1;36m4\u001b[0m  \u001b[1;36m-102.3618288012336\u001b[0m            \u001b[1;36m12449.11\u001b[0m                 \u001b[1;36m0.0\u001b[0m  \u001b[1;36m67198\u001b[0m  \n",
       "\n",
       "\u001b[1m[\u001b[0m\u001b[1;36m5\u001b[0m rows x \u001b[1;36m27\u001b[0m columns\u001b[1m]\u001b[0m"
      ]
     },
     "execution_count": 18,
     "metadata": {},
     "output_type": "execute_result"
    }
   ],
   "source": [
    "raw_patient_data.head()"
   ]
  },
  {
   "cell_type": "code",
   "execution_count": null,
   "id": "a16a8b69-3bf6-49a6-9a6f-f8e7f3708600",
   "metadata": {},
   "outputs": [],
   "source": [
    "raw_conditions_data =  catalog.load('')"
   ]
  },
  {
   "cell_type": "code",
   "execution_count": 16,
   "id": "778014b5-90bf-4863-863a-4db9faf5efee",
   "metadata": {},
   "outputs": [
    {
     "data": {
      "text/html": [
       "<pre style=\"white-space:pre;overflow-x:auto;line-height:normal;font-family:Menlo,'DejaVu Sans Mono',consolas,'Courier New',monospace\"></pre>\n"
      ],
      "text/plain": []
     },
     "metadata": {},
     "output_type": "display_data"
    },
    {
     "data": {
      "text/plain": [
       "\n",
       "\u001b[1;36m0\u001b[0m       \u001b[93m28D7B56C-6056-D0A2-2991-39D6E917216C\u001b[0m\n",
       "\u001b[1;36m1\u001b[0m       \u001b[93m239AE86A-96DB-6211-9042-D3F2850AABB8\u001b[0m\n",
       "\u001b[1;36m2\u001b[0m       \u001b[93m239AE86A-96DB-6211-9042-D3F2850AABB8\u001b[0m\n",
       "\u001b[1;36m3\u001b[0m       \u001b[93m6C434506-FB4B-3E3F-C19D-553DEC3B6C17\u001b[0m\n",
       "\u001b[1;36m4\u001b[0m       \u001b[93m6872DEF5-772F-427C-3053-DE6E1C71CE0A\u001b[0m\n",
       "                        \u001b[33m...\u001b[0m                 \n",
       "\u001b[1;36m4144\u001b[0m    \u001b[93m8B509749-AAAB-30B8-9A67-E8620EEC19F0\u001b[0m\n",
       "\u001b[1;36m4145\u001b[0m    \u001b[93m34F0EA6D-5E68-4572-4F02-70ABF4DE4076\u001b[0m\n",
       "\u001b[1;36m4146\u001b[0m    \u001b[93m34F0EA6D-5E68-4572-4F02-70ABF4DE4076\u001b[0m\n",
       "\u001b[1;36m4147\u001b[0m    \u001b[93m8D116ACE-7FB6-7D5F-B86B-94547CBD796D\u001b[0m\n",
       "\u001b[1;36m4148\u001b[0m    \u001b[93m8D116ACE-7FB6-7D5F-B86B-94547CBD796D\u001b[0m\n",
       "Name: PATIENT, Length: \u001b[1;36m4149\u001b[0m, dtype: object"
      ]
     },
     "execution_count": 16,
     "metadata": {},
     "output_type": "execute_result"
    }
   ],
   "source": [
    "raw_patient_data['PATIENT']"
   ]
  },
  {
   "cell_type": "code",
   "execution_count": null,
   "id": "f4311a91-c512-4c25-b836-85685194517c",
   "metadata": {},
   "outputs": [],
   "source": []
  }
 ],
 "metadata": {
  "kernelspec": {
   "display_name": "Kedro (datapipeline)",
   "language": "python",
   "name": "kedro_datapipeline"
  },
  "language_info": {
   "codemirror_mode": {
    "name": "ipython",
    "version": 3
   },
   "file_extension": ".py",
   "mimetype": "text/x-python",
   "name": "python",
   "nbconvert_exporter": "python",
   "pygments_lexer": "ipython3",
   "version": "3.11.9"
  }
 },
 "nbformat": 4,
 "nbformat_minor": 5
}
