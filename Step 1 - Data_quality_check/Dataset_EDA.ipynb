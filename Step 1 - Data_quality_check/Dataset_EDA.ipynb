{
 "cells": [
  {
   "cell_type": "markdown",
   "metadata": {},
   "source": [
    "## Data Assessment using Python Libraries"
   ]
  },
  {
   "cell_type": "code",
   "execution_count": 3,
   "metadata": {},
   "outputs": [],
   "source": [
    "#importing necessary libraries\n",
    "import pandas as pd\n",
    "import numpy as np\n",
    "import matplotlib.pyplot as plt\n",
    "import seaborn as sns\n",
    "import pyarrow\n",
    "import graphviz"
   ]
  },
  {
   "cell_type": "code",
   "execution_count": null,
   "metadata": {},
   "outputs": [],
   "source": [
    "# Load datasets\n",
    "patients = pd.read_csv(r\"C:\\Users\\ABHISHEK BANKAWAT\\Desktop\\Data_Engineering_Task\\Dataset\\patients.csv\")\n",
    "conditions = pd.read_excel(r\"C:\\Users\\ABHISHEK BANKAWAT\\Desktop\\Data_Engineering_Task\\Dataset\\conditions.xlsx\")\n",
    "encounters = pd.read_parquet(r\"C:\\Users\\ABHISHEK BANKAWAT\\Desktop\\Data_Engineering_Task\\Dataset\\encounters.parquet\", engine='pyarrow')\n",
    "symptoms = pd.read_csv(r\"C:\\Users\\ABHISHEK BANKAWAT\\Desktop\\Data_Engineering_Task\\Dataset\\symptoms.csv\")\n",
    "medications = pd.read_csv(r\"C:\\Users\\ABHISHEK BANKAWAT\\Desktop\\Data_Engineering_Task\\Dataset\\medications.csv\")\n"
   ]
  },
  {
   "cell_type": "markdown",
   "metadata": {},
   "source": [
    "### Exploring datasets for Data Quality Issues"
   ]
  },
  {
   "cell_type": "markdown",
   "metadata": {},
   "source": [
    "#### Patients Dataset"
   ]
  },
  {
   "cell_type": "code",
   "execution_count": 25,
   "metadata": {},
   "outputs": [],
   "source": [
    "pd.set_option('display.max_columns', None)"
   ]
  },
  {
   "cell_type": "code",
   "execution_count": 6,
   "metadata": {},
   "outputs": [
    {
     "data": {
      "text/plain": [
       "(10000, 27)"
      ]
     },
     "execution_count": 6,
     "metadata": {},
     "output_type": "execute_result"
    }
   ],
   "source": [
    "patients.shape"
   ]
  },
  {
   "cell_type": "code",
   "execution_count": 30,
   "metadata": {},
   "outputs": [
    {
     "data": {
      "text/plain": [
       "Index(['PATIENT_ID', 'BIRTHDATE', 'DEATHDATE', 'SSN', 'DRIVERS', 'PASSPORT',\n",
       "       'PREFIX', 'FIRST', 'LAST', 'SUFFIX', 'MAIDEN', 'MARITAL', 'RACE',\n",
       "       'ETHNICITY', 'GENDER', 'BIRTHPLACE', 'ADDRESS', 'CITY', 'STATE',\n",
       "       'COUNTY', 'FIPS', 'ZIP', 'LAT', 'LON', 'HEALTHCARE_EXPENSES',\n",
       "       'HEALTHCARE_COVERAGE', 'INCOME'],\n",
       "      dtype='object')"
      ]
     },
     "execution_count": 30,
     "metadata": {},
     "output_type": "execute_result"
    }
   ],
   "source": [
    "patients.columns"
   ]
  },
  {
   "cell_type": "code",
   "execution_count": 7,
   "metadata": {},
   "outputs": [
    {
     "data": {
      "text/plain": [
       "PATIENT_ID              object\n",
       "BIRTHDATE               object\n",
       "DEATHDATE              float64\n",
       "SSN                     object\n",
       "DRIVERS                 object\n",
       "PASSPORT                object\n",
       "PREFIX                  object\n",
       "FIRST                   object\n",
       "LAST                    object\n",
       "SUFFIX                  object\n",
       "MAIDEN                  object\n",
       "MARITAL                 object\n",
       "RACE                    object\n",
       "ETHNICITY               object\n",
       "GENDER                 float64\n",
       "BIRTHPLACE              object\n",
       "ADDRESS                 object\n",
       "CITY                    object\n",
       "STATE                   object\n",
       "COUNTY                  object\n",
       "FIPS                   float64\n",
       "ZIP                      int64\n",
       "LAT                    float64\n",
       "LON                    float64\n",
       "HEALTHCARE_EXPENSES    float64\n",
       "HEALTHCARE_COVERAGE    float64\n",
       "INCOME                   int64\n",
       "dtype: object"
      ]
     },
     "execution_count": 7,
     "metadata": {},
     "output_type": "execute_result"
    }
   ],
   "source": [
    "patients.dtypes"
   ]
  },
  {
   "cell_type": "markdown",
   "metadata": {},
   "source": [
    "* we have to convert columns into correct format like datatime, int and string"
   ]
  },
  {
   "cell_type": "code",
   "execution_count": 24,
   "metadata": {},
   "outputs": [
    {
     "data": {
      "text/html": [
       "<div>\n",
       "<style scoped>\n",
       "    .dataframe tbody tr th:only-of-type {\n",
       "        vertical-align: middle;\n",
       "    }\n",
       "\n",
       "    .dataframe tbody tr th {\n",
       "        vertical-align: top;\n",
       "    }\n",
       "\n",
       "    .dataframe thead th {\n",
       "        text-align: right;\n",
       "    }\n",
       "</style>\n",
       "<table border=\"1\" class=\"dataframe\">\n",
       "  <thead>\n",
       "    <tr style=\"text-align: right;\">\n",
       "      <th></th>\n",
       "      <th>PATIENT_ID</th>\n",
       "      <th>BIRTHDATE</th>\n",
       "      <th>DEATHDATE</th>\n",
       "      <th>SSN</th>\n",
       "      <th>DRIVERS</th>\n",
       "      <th>PASSPORT</th>\n",
       "      <th>PREFIX</th>\n",
       "      <th>FIRST</th>\n",
       "      <th>LAST</th>\n",
       "      <th>SUFFIX</th>\n",
       "      <th>MAIDEN</th>\n",
       "      <th>MARITAL</th>\n",
       "      <th>RACE</th>\n",
       "      <th>ETHNICITY</th>\n",
       "      <th>GENDER</th>\n",
       "      <th>BIRTHPLACE</th>\n",
       "      <th>ADDRESS</th>\n",
       "      <th>CITY</th>\n",
       "      <th>STATE</th>\n",
       "      <th>COUNTY</th>\n",
       "      <th>FIPS</th>\n",
       "      <th>ZIP</th>\n",
       "      <th>LAT</th>\n",
       "      <th>LON</th>\n",
       "      <th>HEALTHCARE_EXPENSES</th>\n",
       "      <th>HEALTHCARE_COVERAGE</th>\n",
       "      <th>INCOME</th>\n",
       "    </tr>\n",
       "  </thead>\n",
       "  <tbody>\n",
       "    <tr>\n",
       "      <th>0</th>\n",
       "      <td>54f1059e-6250-3949-6dd0-1dda9b85d22a</td>\n",
       "      <td>2002-01-21</td>\n",
       "      <td>NaN</td>\n",
       "      <td>999-28-3364</td>\n",
       "      <td>S99987398</td>\n",
       "      <td>X44428214X</td>\n",
       "      <td>Ms.</td>\n",
       "      <td>Fredricka415</td>\n",
       "      <td>Crist667</td>\n",
       "      <td>NaN</td>\n",
       "      <td>NaN</td>\n",
       "      <td>NaN</td>\n",
       "      <td>white</td>\n",
       "      <td>nonhispanic</td>\n",
       "      <td>NaN</td>\n",
       "      <td>San Antonio  Texas  US</td>\n",
       "      <td>931 Bartell Ville Apt 84</td>\n",
       "      <td>Fort Worth</td>\n",
       "      <td>Texas</td>\n",
       "      <td>Tarrant County</td>\n",
       "      <td>48439.0</td>\n",
       "      <td>76104</td>\n",
       "      <td>0.329154</td>\n",
       "      <td>-97.399553</td>\n",
       "      <td>9990.08</td>\n",
       "      <td>0.0</td>\n",
       "      <td>35460</td>\n",
       "    </tr>\n",
       "    <tr>\n",
       "      <th>1</th>\n",
       "      <td>92675303-ca5b-136a-169b-e764c5753f06</td>\n",
       "      <td>1997-04-16</td>\n",
       "      <td>NaN</td>\n",
       "      <td>999-62-9859</td>\n",
       "      <td>S99999770</td>\n",
       "      <td>X75016560X</td>\n",
       "      <td>Mr.</td>\n",
       "      <td>Lorenzo669</td>\n",
       "      <td>Urrutia540</td>\n",
       "      <td>NaN</td>\n",
       "      <td>NaN</td>\n",
       "      <td>NaN</td>\n",
       "      <td>white</td>\n",
       "      <td>hispanic</td>\n",
       "      <td>NaN</td>\n",
       "      <td>Carolina  Puerto Rico  PR</td>\n",
       "      <td>386 Altenwerth Orchard Apt 67</td>\n",
       "      <td>Arlington</td>\n",
       "      <td>Texas</td>\n",
       "      <td>Tarrant County</td>\n",
       "      <td>48439.0</td>\n",
       "      <td>76006</td>\n",
       "      <td>0.328145</td>\n",
       "      <td>-97.068885</td>\n",
       "      <td>10936.80</td>\n",
       "      <td>0.0</td>\n",
       "      <td>88407</td>\n",
       "    </tr>\n",
       "    <tr>\n",
       "      <th>2</th>\n",
       "      <td>a0b63e97-b6fd-5fe1-8f2d-2bec915efa97</td>\n",
       "      <td>1993-02-04</td>\n",
       "      <td>NaN</td>\n",
       "      <td>999-53-6488</td>\n",
       "      <td>S99979170</td>\n",
       "      <td>X60079936X</td>\n",
       "      <td>Mr.</td>\n",
       "      <td>Luther918</td>\n",
       "      <td>MacGyver246</td>\n",
       "      <td>NaN</td>\n",
       "      <td>NaN</td>\n",
       "      <td>M</td>\n",
       "      <td>white</td>\n",
       "      <td>nonhispanic</td>\n",
       "      <td>NaN</td>\n",
       "      <td>Grand Prairie  Texas  US</td>\n",
       "      <td>250 Morar Fork Apt 66</td>\n",
       "      <td>Houston</td>\n",
       "      <td>Texas</td>\n",
       "      <td>Harris County</td>\n",
       "      <td>48339.0</td>\n",
       "      <td>77357</td>\n",
       "      <td>0.300834</td>\n",
       "      <td>-95.649706</td>\n",
       "      <td>10662.16</td>\n",
       "      <td>0.0</td>\n",
       "      <td>41800</td>\n",
       "    </tr>\n",
       "    <tr>\n",
       "      <th>3</th>\n",
       "      <td>abc59f62-dc5a-5095-1141-80b4ee8be73b</td>\n",
       "      <td>1995-05-23</td>\n",
       "      <td>NaN</td>\n",
       "      <td>999-37-1058</td>\n",
       "      <td>S99981031</td>\n",
       "      <td>X14759314X</td>\n",
       "      <td>Mrs.</td>\n",
       "      <td>Jacque955</td>\n",
       "      <td>Jones311</td>\n",
       "      <td>NaN</td>\n",
       "      <td>Will178</td>\n",
       "      <td>M</td>\n",
       "      <td>white</td>\n",
       "      <td>nonhispanic</td>\n",
       "      <td>NaN</td>\n",
       "      <td>Euless  Texas  US</td>\n",
       "      <td>492 Keebler Estate</td>\n",
       "      <td>Waco</td>\n",
       "      <td>Texas</td>\n",
       "      <td>McLennan County</td>\n",
       "      <td>48309.0</td>\n",
       "      <td>76655</td>\n",
       "      <td>0.315173</td>\n",
       "      <td>-97.292558</td>\n",
       "      <td>11455.93</td>\n",
       "      <td>0.0</td>\n",
       "      <td>41915</td>\n",
       "    </tr>\n",
       "    <tr>\n",
       "      <th>4</th>\n",
       "      <td>28d7b56c-6056-d0a2-2991-39d6e917216c</td>\n",
       "      <td>1993-11-13</td>\n",
       "      <td>NaN</td>\n",
       "      <td>999-31-6091</td>\n",
       "      <td>S99958903</td>\n",
       "      <td>X63033472X</td>\n",
       "      <td>Mrs.</td>\n",
       "      <td>Angela104</td>\n",
       "      <td>Stanton715</td>\n",
       "      <td>NaN</td>\n",
       "      <td>Funk324</td>\n",
       "      <td>M</td>\n",
       "      <td>white</td>\n",
       "      <td>hispanic</td>\n",
       "      <td>NaN</td>\n",
       "      <td>Cibolo  Texas  US</td>\n",
       "      <td>677 Bosco Extension</td>\n",
       "      <td>Levelland</td>\n",
       "      <td>Texas</td>\n",
       "      <td>Hockley County</td>\n",
       "      <td>48219.0</td>\n",
       "      <td>79336</td>\n",
       "      <td>0.337037</td>\n",
       "      <td>-102.361829</td>\n",
       "      <td>12449.11</td>\n",
       "      <td>0.0</td>\n",
       "      <td>67198</td>\n",
       "    </tr>\n",
       "  </tbody>\n",
       "</table>\n",
       "</div>"
      ],
      "text/plain": [
       "                             PATIENT_ID   BIRTHDATE  DEATHDATE          SSN  \\\n",
       "0  54f1059e-6250-3949-6dd0-1dda9b85d22a  2002-01-21        NaN  999-28-3364   \n",
       "1  92675303-ca5b-136a-169b-e764c5753f06  1997-04-16        NaN  999-62-9859   \n",
       "2  a0b63e97-b6fd-5fe1-8f2d-2bec915efa97  1993-02-04        NaN  999-53-6488   \n",
       "3  abc59f62-dc5a-5095-1141-80b4ee8be73b  1995-05-23        NaN  999-37-1058   \n",
       "4  28d7b56c-6056-d0a2-2991-39d6e917216c  1993-11-13        NaN  999-31-6091   \n",
       "\n",
       "     DRIVERS    PASSPORT PREFIX         FIRST         LAST SUFFIX   MAIDEN  \\\n",
       "0  S99987398  X44428214X    Ms.  Fredricka415     Crist667    NaN      NaN   \n",
       "1  S99999770  X75016560X    Mr.    Lorenzo669   Urrutia540    NaN      NaN   \n",
       "2  S99979170  X60079936X    Mr.     Luther918  MacGyver246    NaN      NaN   \n",
       "3  S99981031  X14759314X   Mrs.     Jacque955     Jones311    NaN  Will178   \n",
       "4  S99958903  X63033472X   Mrs.     Angela104   Stanton715    NaN  Funk324   \n",
       "\n",
       "  MARITAL   RACE    ETHNICITY  GENDER                 BIRTHPLACE  \\\n",
       "0     NaN  white  nonhispanic     NaN     San Antonio  Texas  US   \n",
       "1     NaN  white     hispanic     NaN  Carolina  Puerto Rico  PR   \n",
       "2       M  white  nonhispanic     NaN   Grand Prairie  Texas  US   \n",
       "3       M  white  nonhispanic     NaN          Euless  Texas  US   \n",
       "4       M  white     hispanic     NaN          Cibolo  Texas  US   \n",
       "\n",
       "                         ADDRESS        CITY  STATE           COUNTY     FIPS  \\\n",
       "0       931 Bartell Ville Apt 84  Fort Worth  Texas   Tarrant County  48439.0   \n",
       "1  386 Altenwerth Orchard Apt 67   Arlington  Texas   Tarrant County  48439.0   \n",
       "2          250 Morar Fork Apt 66     Houston  Texas    Harris County  48339.0   \n",
       "3             492 Keebler Estate        Waco  Texas  McLennan County  48309.0   \n",
       "4            677 Bosco Extension   Levelland  Texas   Hockley County  48219.0   \n",
       "\n",
       "     ZIP       LAT         LON  HEALTHCARE_EXPENSES  HEALTHCARE_COVERAGE  \\\n",
       "0  76104  0.329154  -97.399553              9990.08                  0.0   \n",
       "1  76006  0.328145  -97.068885             10936.80                  0.0   \n",
       "2  77357  0.300834  -95.649706             10662.16                  0.0   \n",
       "3  76655  0.315173  -97.292558             11455.93                  0.0   \n",
       "4  79336  0.337037 -102.361829             12449.11                  0.0   \n",
       "\n",
       "   INCOME  \n",
       "0   35460  \n",
       "1   88407  \n",
       "2   41800  \n",
       "3   41915  \n",
       "4   67198  "
      ]
     },
     "execution_count": 24,
     "metadata": {},
     "output_type": "execute_result"
    }
   ],
   "source": [
    "patients.head(5)"
   ]
  },
  {
   "cell_type": "markdown",
   "metadata": {},
   "source": [
    "* There is digits in First, maiden and last name which can create problems later so we can standarize the columns to remove digits from names"
   ]
  },
  {
   "cell_type": "code",
   "execution_count": null,
   "metadata": {},
   "outputs": [],
   "source": []
  },
  {
   "cell_type": "code",
   "execution_count": 13,
   "metadata": {},
   "outputs": [
    {
     "data": {
      "text/html": [
       "<div>\n",
       "<style scoped>\n",
       "    .dataframe tbody tr th:only-of-type {\n",
       "        vertical-align: middle;\n",
       "    }\n",
       "\n",
       "    .dataframe tbody tr th {\n",
       "        vertical-align: top;\n",
       "    }\n",
       "\n",
       "    .dataframe thead th {\n",
       "        text-align: right;\n",
       "    }\n",
       "</style>\n",
       "<table border=\"1\" class=\"dataframe\">\n",
       "  <thead>\n",
       "    <tr style=\"text-align: right;\">\n",
       "      <th></th>\n",
       "      <th>DEATHDATE</th>\n",
       "      <th>GENDER</th>\n",
       "      <th>FIPS</th>\n",
       "      <th>ZIP</th>\n",
       "      <th>LAT</th>\n",
       "      <th>LON</th>\n",
       "      <th>HEALTHCARE_EXPENSES</th>\n",
       "      <th>HEALTHCARE_COVERAGE</th>\n",
       "      <th>INCOME</th>\n",
       "    </tr>\n",
       "  </thead>\n",
       "  <tbody>\n",
       "    <tr>\n",
       "      <th>count</th>\n",
       "      <td>0.0</td>\n",
       "      <td>0.0</td>\n",
       "      <td>9710.000000</td>\n",
       "      <td>10000.000000</td>\n",
       "      <td>10000.000000</td>\n",
       "      <td>10000.000000</td>\n",
       "      <td>10000.000000</td>\n",
       "      <td>10000.000000</td>\n",
       "      <td>10000.00000</td>\n",
       "    </tr>\n",
       "    <tr>\n",
       "      <th>mean</th>\n",
       "      <td>NaN</td>\n",
       "      <td>NaN</td>\n",
       "      <td>48188.824717</td>\n",
       "      <td>74947.406200</td>\n",
       "      <td>0.309868</td>\n",
       "      <td>-97.548956</td>\n",
       "      <td>10489.406391</td>\n",
       "      <td>1817.903496</td>\n",
       "      <td>85358.40780</td>\n",
       "    </tr>\n",
       "    <tr>\n",
       "      <th>std</th>\n",
       "      <td>NaN</td>\n",
       "      <td>NaN</td>\n",
       "      <td>690.565166</td>\n",
       "      <td>13036.344689</td>\n",
       "      <td>0.020044</td>\n",
       "      <td>2.438536</td>\n",
       "      <td>5256.509164</td>\n",
       "      <td>2462.371193</td>\n",
       "      <td>141329.22638</td>\n",
       "    </tr>\n",
       "    <tr>\n",
       "      <th>min</th>\n",
       "      <td>NaN</td>\n",
       "      <td>NaN</td>\n",
       "      <td>35013.000000</td>\n",
       "      <td>0.000000</td>\n",
       "      <td>0.258876</td>\n",
       "      <td>-106.646755</td>\n",
       "      <td>100.000000</td>\n",
       "      <td>0.000000</td>\n",
       "      <td>-986794.00000</td>\n",
       "    </tr>\n",
       "    <tr>\n",
       "      <th>25%</th>\n",
       "      <td>NaN</td>\n",
       "      <td>NaN</td>\n",
       "      <td>48113.000000</td>\n",
       "      <td>75904.000000</td>\n",
       "      <td>0.296555</td>\n",
       "      <td>-98.195686</td>\n",
       "      <td>6889.780000</td>\n",
       "      <td>0.000000</td>\n",
       "      <td>25129.25000</td>\n",
       "    </tr>\n",
       "    <tr>\n",
       "      <th>50%</th>\n",
       "      <td>NaN</td>\n",
       "      <td>NaN</td>\n",
       "      <td>48201.000000</td>\n",
       "      <td>77099.000000</td>\n",
       "      <td>0.306608</td>\n",
       "      <td>-97.126683</td>\n",
       "      <td>10761.620000</td>\n",
       "      <td>0.000000</td>\n",
       "      <td>51009.50000</td>\n",
       "    </tr>\n",
       "    <tr>\n",
       "      <th>75%</th>\n",
       "      <td>NaN</td>\n",
       "      <td>NaN</td>\n",
       "      <td>48355.000000</td>\n",
       "      <td>78260.000000</td>\n",
       "      <td>0.327973</td>\n",
       "      <td>-95.921881</td>\n",
       "      <td>13374.712500</td>\n",
       "      <td>3578.720000</td>\n",
       "      <td>94730.75000</td>\n",
       "    </tr>\n",
       "    <tr>\n",
       "      <th>max</th>\n",
       "      <td>NaN</td>\n",
       "      <td>NaN</td>\n",
       "      <td>48507.000000</td>\n",
       "      <td>88063.000000</td>\n",
       "      <td>0.365969</td>\n",
       "      <td>-93.752308</td>\n",
       "      <td>27627.160000</td>\n",
       "      <td>10808.450000</td>\n",
       "      <td>998831.00000</td>\n",
       "    </tr>\n",
       "  </tbody>\n",
       "</table>\n",
       "</div>"
      ],
      "text/plain": [
       "       DEATHDATE  GENDER          FIPS           ZIP           LAT  \\\n",
       "count        0.0     0.0   9710.000000  10000.000000  10000.000000   \n",
       "mean         NaN     NaN  48188.824717  74947.406200      0.309868   \n",
       "std          NaN     NaN    690.565166  13036.344689      0.020044   \n",
       "min          NaN     NaN  35013.000000      0.000000      0.258876   \n",
       "25%          NaN     NaN  48113.000000  75904.000000      0.296555   \n",
       "50%          NaN     NaN  48201.000000  77099.000000      0.306608   \n",
       "75%          NaN     NaN  48355.000000  78260.000000      0.327973   \n",
       "max          NaN     NaN  48507.000000  88063.000000      0.365969   \n",
       "\n",
       "                LON  HEALTHCARE_EXPENSES  HEALTHCARE_COVERAGE        INCOME  \n",
       "count  10000.000000         10000.000000         10000.000000   10000.00000  \n",
       "mean     -97.548956         10489.406391          1817.903496   85358.40780  \n",
       "std        2.438536          5256.509164          2462.371193  141329.22638  \n",
       "min     -106.646755           100.000000             0.000000 -986794.00000  \n",
       "25%      -98.195686          6889.780000             0.000000   25129.25000  \n",
       "50%      -97.126683         10761.620000             0.000000   51009.50000  \n",
       "75%      -95.921881         13374.712500          3578.720000   94730.75000  \n",
       "max      -93.752308         27627.160000         10808.450000  998831.00000  "
      ]
     },
     "execution_count": 13,
     "metadata": {},
     "output_type": "execute_result"
    }
   ],
   "source": [
    "patients.describe()"
   ]
  },
  {
   "cell_type": "code",
   "execution_count": 29,
   "metadata": {},
   "outputs": [
    {
     "name": "stdout",
     "output_type": "stream",
     "text": [
      "200\n"
     ]
    }
   ],
   "source": [
    "# we have negative values in income column which is a quality issue\n",
    "negative_income_count = (patients['INCOME'] < 0).sum()\n",
    "print(negative_income_count)"
   ]
  },
  {
   "cell_type": "code",
   "execution_count": 11,
   "metadata": {},
   "outputs": [
    {
     "data": {
      "text/plain": [
       "PATIENT_ID                 0\n",
       "BIRTHDATE                  0\n",
       "DEATHDATE              10000\n",
       "SSN                        0\n",
       "DRIVERS                 2320\n",
       "PASSPORT                2961\n",
       "PREFIX                  2663\n",
       "FIRST                      0\n",
       "LAST                       0\n",
       "SUFFIX                  9941\n",
       "MAIDEN                  7648\n",
       "MARITAL                 4146\n",
       "RACE                       0\n",
       "ETHNICITY                  0\n",
       "GENDER                 10000\n",
       "BIRTHPLACE                 0\n",
       "ADDRESS                    0\n",
       "CITY                       0\n",
       "STATE                      0\n",
       "COUNTY                     0\n",
       "FIPS                     290\n",
       "ZIP                        0\n",
       "LAT                        0\n",
       "LON                        0\n",
       "HEALTHCARE_EXPENSES        0\n",
       "HEALTHCARE_COVERAGE        0\n",
       "INCOME                     0\n",
       "dtype: int64"
      ]
     },
     "execution_count": 11,
     "metadata": {},
     "output_type": "execute_result"
    }
   ],
   "source": [
    "patients.isna().sum()"
   ]
  },
  {
   "cell_type": "markdown",
   "metadata": {},
   "source": [
    "So we can see in the above output we have missing values in many columns and our gender column in empty so we know where we have missing values in our data and we can move with keeping that in mind"
   ]
  },
  {
   "cell_type": "code",
   "execution_count": null,
   "metadata": {},
   "outputs": [
    {
     "data": {
      "text/plain": [
       "0       False\n",
       "1       False\n",
       "2       False\n",
       "3       False\n",
       "4       False\n",
       "        ...  \n",
       "9995    False\n",
       "9996    False\n",
       "9997    False\n",
       "9998    False\n",
       "9999    False\n",
       "Length: 10000, dtype: bool"
      ]
     },
     "execution_count": 14,
     "metadata": {},
     "output_type": "execute_result"
    }
   ],
   "source": [
    "patients.duplicated()\n",
    "# patients.duplicated(subset=['PATIENT_ID'])"
   ]
  },
  {
   "cell_type": "markdown",
   "metadata": {},
   "source": [
    "We have no duplicates in the dataset"
   ]
  },
  {
   "cell_type": "code",
   "execution_count": 20,
   "metadata": {},
   "outputs": [
    {
     "data": {
      "text/plain": [
       "<Axes: title={'center': 'County wise patients'}, xlabel='COUNTY'>"
      ]
     },
     "execution_count": 20,
     "metadata": {},
     "output_type": "execute_result"
    },
    {
     "data": {
      "image/png": "[encoded data removed]",
      "text/plain": [
       "<Figure size 640x480 with 1 Axes>"
      ]
     },
     "metadata": {},
     "output_type": "display_data"
    }
   ],
   "source": [
    "patients['COUNTY'].value_counts()\\\n",
    "        .head(5) \\\n",
    "        .plot(kind='bar',title='County wise patients')"
   ]
  },
  {
   "cell_type": "code",
   "execution_count": 25,
   "metadata": {},
   "outputs": [
    {
     "data": {
      "text/plain": [
       "Text(0, 0.5, 'No of patients')"
      ]
     },
     "execution_count": 25,
     "metadata": {},
     "output_type": "execute_result"
    },
    {
     "data": {
      "image/png": "[encoded data removed]",
      "text/plain": [
       "<Figure size 640x480 with 1 Axes>"
      ]
     },
     "metadata": {},
     "output_type": "display_data"
    }
   ],
   "source": [
    "plots = patients['HEALTHCARE_EXPENSES'].plot(kind='hist', bins=30, title='Healthcare Expenses')\n",
    "plots.set_xlabel('Expense')\n",
    "plots.set_ylabel('No of patients')"
   ]
  },
  {
   "cell_type": "markdown",
   "metadata": {},
   "source": [
    "We can see like most of the patients have expenses between 10K to 15K dollars"
   ]
  },
  {
   "cell_type": "code",
   "execution_count": 63,
   "metadata": {},
   "outputs": [
    {
     "data": {
      "text/plain": [
       "33"
      ]
     },
     "execution_count": 63,
     "metadata": {},
     "output_type": "execute_result"
    }
   ],
   "source": [
    "(patients['COUNTY'].value_counts() == 1).sum()"
   ]
  },
  {
   "cell_type": "markdown",
   "metadata": {},
   "source": [
    "### Issues with patients Dataset\n",
    "* Proper dtype of column like date, int and float\n",
    "* Digits in name columns\n",
    "* 200 negative values in income column"
   ]
  },
  {
   "cell_type": "markdown",
   "metadata": {},
   "source": [
    "### Conditions Dataset "
   ]
  },
  {
   "cell_type": "code",
   "execution_count": 48,
   "metadata": {},
   "outputs": [
    {
     "data": {
      "text/plain": [
       "(4149, 6)"
      ]
     },
     "execution_count": 48,
     "metadata": {},
     "output_type": "execute_result"
    }
   ],
   "source": [
    "conditions.shape"
   ]
  },
  {
   "cell_type": "code",
   "execution_count": 49,
   "metadata": {},
   "outputs": [
    {
     "data": {
      "text/plain": [
       "Index(['START', 'STOP', 'PATIENT', 'ENCOUNTER', 'CODE', 'DESCRIPTION'], dtype='object')"
      ]
     },
     "execution_count": 49,
     "metadata": {},
     "output_type": "execute_result"
    }
   ],
   "source": [
    "conditions.columns"
   ]
  },
  {
   "cell_type": "code",
   "execution_count": 51,
   "metadata": {},
   "outputs": [
    {
     "data": {
      "text/plain": [
       "START           object\n",
       "STOP           float64\n",
       "PATIENT         object\n",
       "ENCOUNTER       object\n",
       "CODE             int64\n",
       "DESCRIPTION     object\n",
       "dtype: object"
      ]
     },
     "execution_count": 51,
     "metadata": {},
     "output_type": "execute_result"
    }
   ],
   "source": [
    "conditions.dtypes"
   ]
  },
  {
   "cell_type": "code",
   "execution_count": 66,
   "metadata": {},
   "outputs": [
    {
     "data": {
      "text/plain": [
       "START             0\n",
       "STOP           4149\n",
       "PATIENT           0\n",
       "ENCOUNTER         0\n",
       "CODE              0\n",
       "DESCRIPTION       0\n",
       "dtype: int64"
      ]
     },
     "execution_count": 66,
     "metadata": {},
     "output_type": "execute_result"
    }
   ],
   "source": [
    "conditions.isna().sum()"
   ]
  },
  {
   "cell_type": "code",
   "execution_count": 43,
   "metadata": {},
   "outputs": [
    {
     "data": {
      "text/html": [
       "<div>\n",
       "<style scoped>\n",
       "    .dataframe tbody tr th:only-of-type {\n",
       "        vertical-align: middle;\n",
       "    }\n",
       "\n",
       "    .dataframe tbody tr th {\n",
       "        vertical-align: top;\n",
       "    }\n",
       "\n",
       "    .dataframe thead th {\n",
       "        text-align: right;\n",
       "    }\n",
       "</style>\n",
       "<table border=\"1\" class=\"dataframe\">\n",
       "  <thead>\n",
       "    <tr style=\"text-align: right;\">\n",
       "      <th></th>\n",
       "      <th>START</th>\n",
       "      <th>STOP</th>\n",
       "      <th>PATIENT</th>\n",
       "      <th>ENCOUNTER</th>\n",
       "      <th>CODE</th>\n",
       "      <th>DESCRIPTION</th>\n",
       "    </tr>\n",
       "  </thead>\n",
       "  <tbody>\n",
       "    <tr>\n",
       "      <th>0</th>\n",
       "      <td>2020-04-21</td>\n",
       "      <td>NaN</td>\n",
       "      <td>28D7B56C-6056-D0A2-2991-39D6E917216C</td>\n",
       "      <td>402dfaeb-1888-f562-4651-f75203eb1e28</td>\n",
       "      <td>200936003</td>\n",
       "      <td>Lupus erythematosus</td>\n",
       "    </tr>\n",
       "    <tr>\n",
       "      <th>1</th>\n",
       "      <td>2001-11-07</td>\n",
       "      <td>NaN</td>\n",
       "      <td>239AE86A-96DB-6211-9042-D3F2850AABB8</td>\n",
       "      <td>10d39d6f-7d98-8d03-8866-0a7cd363890b</td>\n",
       "      <td>200936003</td>\n",
       "      <td>Lupus erythematosus</td>\n",
       "    </tr>\n",
       "    <tr>\n",
       "      <th>2</th>\n",
       "      <td>2001-11-07</td>\n",
       "      <td>NaN</td>\n",
       "      <td>239AE86A-96DB-6211-9042-D3F2850AABB8</td>\n",
       "      <td>10d39d6f-7d98-8d03-8866-0a7cd363890b</td>\n",
       "      <td>271737000</td>\n",
       "      <td>Anemia (disorder)</td>\n",
       "    </tr>\n",
       "    <tr>\n",
       "      <th>3</th>\n",
       "      <td>2017-11-05</td>\n",
       "      <td>NaN</td>\n",
       "      <td>6C434506-FB4B-3E3F-C19D-553DEC3B6C17</td>\n",
       "      <td>add4fa37-cabe-a5aa-f9da-8117464bad04</td>\n",
       "      <td>200936003</td>\n",
       "      <td>Lupus erythematosus</td>\n",
       "    </tr>\n",
       "    <tr>\n",
       "      <th>4</th>\n",
       "      <td>1989-09-15</td>\n",
       "      <td>NaN</td>\n",
       "      <td>6872DEF5-772F-427C-3053-DE6E1C71CE0A</td>\n",
       "      <td>d8a684cb-6ce1-5909-59e7-3422469d18d0</td>\n",
       "      <td>200936003</td>\n",
       "      <td>Lupus erythematosus</td>\n",
       "    </tr>\n",
       "    <tr>\n",
       "      <th>5</th>\n",
       "      <td>1999-07-01</td>\n",
       "      <td>NaN</td>\n",
       "      <td>D92132CE-06AC-3AB4-217F-97257A290B22</td>\n",
       "      <td>e6e53890-14b4-c061-f6d5-a238afa909eb</td>\n",
       "      <td>200936003</td>\n",
       "      <td>LUPUS ERYTHEMATOSUS</td>\n",
       "    </tr>\n",
       "    <tr>\n",
       "      <th>6</th>\n",
       "      <td>1999-07-01</td>\n",
       "      <td>NaN</td>\n",
       "      <td>D92132CE-06AC-3AB4-217F-97257A290B22</td>\n",
       "      <td>e6e53890-14b4-c061-f6d5-a238afa909eb</td>\n",
       "      <td>271737000</td>\n",
       "      <td>Anemia (disorder)</td>\n",
       "    </tr>\n",
       "    <tr>\n",
       "      <th>7</th>\n",
       "      <td>2022-02-02</td>\n",
       "      <td>NaN</td>\n",
       "      <td>44A8CA45-6C6E-38BB-FAC0-DDBF7A7EE3A4</td>\n",
       "      <td>6fb6c081-f00f-53d3-0adc-226699a511b8</td>\n",
       "      <td>200936003</td>\n",
       "      <td>LUPUS ERYTHEMATOSUS</td>\n",
       "    </tr>\n",
       "    <tr>\n",
       "      <th>8</th>\n",
       "      <td>2002-02-04</td>\n",
       "      <td>NaN</td>\n",
       "      <td>9F6A80AF-4FA3-BD0F-750B-94B7C3F7046D</td>\n",
       "      <td>82797b32-a090-95e7-919e-3c32c6008925</td>\n",
       "      <td>200936003</td>\n",
       "      <td>Lupus erythematosus</td>\n",
       "    </tr>\n",
       "    <tr>\n",
       "      <th>9</th>\n",
       "      <td>1998-09-08</td>\n",
       "      <td>NaN</td>\n",
       "      <td>6B060C17-B5AF-82B5-0417-38644CF1FEF5</td>\n",
       "      <td>9f5e9cb0-1dd2-34e8-4f47-01496c8afe24</td>\n",
       "      <td>200936003</td>\n",
       "      <td>LUPUS ERYTHEMATOSUS</td>\n",
       "    </tr>\n",
       "  </tbody>\n",
       "</table>\n",
       "</div>"
      ],
      "text/plain": [
       "        START  STOP                               PATIENT  \\\n",
       "0  2020-04-21   NaN  28D7B56C-6056-D0A2-2991-39D6E917216C   \n",
       "1  2001-11-07   NaN  239AE86A-96DB-6211-9042-D3F2850AABB8   \n",
       "2  2001-11-07   NaN  239AE86A-96DB-6211-9042-D3F2850AABB8   \n",
       "3  2017-11-05   NaN  6C434506-FB4B-3E3F-C19D-553DEC3B6C17   \n",
       "4  1989-09-15   NaN  6872DEF5-772F-427C-3053-DE6E1C71CE0A   \n",
       "5  1999-07-01   NaN  D92132CE-06AC-3AB4-217F-97257A290B22   \n",
       "6  1999-07-01   NaN  D92132CE-06AC-3AB4-217F-97257A290B22   \n",
       "7  2022-02-02   NaN  44A8CA45-6C6E-38BB-FAC0-DDBF7A7EE3A4   \n",
       "8  2002-02-04   NaN  9F6A80AF-4FA3-BD0F-750B-94B7C3F7046D   \n",
       "9  1998-09-08   NaN  6B060C17-B5AF-82B5-0417-38644CF1FEF5   \n",
       "\n",
       "                              ENCOUNTER       CODE          DESCRIPTION  \n",
       "0  402dfaeb-1888-f562-4651-f75203eb1e28  200936003  Lupus erythematosus  \n",
       "1  10d39d6f-7d98-8d03-8866-0a7cd363890b  200936003  Lupus erythematosus  \n",
       "2  10d39d6f-7d98-8d03-8866-0a7cd363890b  271737000    Anemia (disorder)  \n",
       "3  add4fa37-cabe-a5aa-f9da-8117464bad04  200936003  Lupus erythematosus  \n",
       "4  d8a684cb-6ce1-5909-59e7-3422469d18d0  200936003  Lupus erythematosus  \n",
       "5  e6e53890-14b4-c061-f6d5-a238afa909eb  200936003  LUPUS ERYTHEMATOSUS  \n",
       "6  e6e53890-14b4-c061-f6d5-a238afa909eb  271737000    Anemia (disorder)  \n",
       "7  6fb6c081-f00f-53d3-0adc-226699a511b8  200936003  LUPUS ERYTHEMATOSUS  \n",
       "8  82797b32-a090-95e7-919e-3c32c6008925  200936003  Lupus erythematosus  \n",
       "9  9f5e9cb0-1dd2-34e8-4f47-01496c8afe24  200936003  LUPUS ERYTHEMATOSUS  "
      ]
     },
     "execution_count": 43,
     "metadata": {},
     "output_type": "execute_result"
    }
   ],
   "source": [
    "conditions.head(10)"
   ]
  },
  {
   "cell_type": "code",
   "execution_count": 57,
   "metadata": {},
   "outputs": [
    {
     "data": {
      "text/plain": [
       "CODE       DESCRIPTION        \n",
       "200936003  Lupus erythematosus    2176\n",
       "271737000  Anemia (disorder)      1035\n",
       "200936003  lupus erythematosus     332\n",
       "           LUPUS ERYTHEMATOSUS     276\n",
       "271737000  anemia (disorder)       168\n",
       "           ANEMIA (DISORDER)       162\n",
       "Name: count, dtype: int64"
      ]
     },
     "execution_count": 57,
     "metadata": {},
     "output_type": "execute_result"
    }
   ],
   "source": [
    "conditions[['CODE','DESCRIPTION']].value_counts()"
   ]
  },
  {
   "cell_type": "markdown",
   "metadata": {},
   "source": [
    "* Here we can format the casing of Description column "
   ]
  },
  {
   "cell_type": "code",
   "execution_count": 42,
   "metadata": {},
   "outputs": [
    {
     "data": {
      "text/html": [
       "<div>\n",
       "<style scoped>\n",
       "    .dataframe tbody tr th:only-of-type {\n",
       "        vertical-align: middle;\n",
       "    }\n",
       "\n",
       "    .dataframe tbody tr th {\n",
       "        vertical-align: top;\n",
       "    }\n",
       "\n",
       "    .dataframe thead th {\n",
       "        text-align: right;\n",
       "    }\n",
       "</style>\n",
       "<table border=\"1\" class=\"dataframe\">\n",
       "  <thead>\n",
       "    <tr style=\"text-align: right;\">\n",
       "      <th></th>\n",
       "      <th>STOP</th>\n",
       "      <th>CODE</th>\n",
       "    </tr>\n",
       "  </thead>\n",
       "  <tbody>\n",
       "    <tr>\n",
       "      <th>count</th>\n",
       "      <td>0.0</td>\n",
       "      <td>4.149000e+03</td>\n",
       "    </tr>\n",
       "    <tr>\n",
       "      <th>mean</th>\n",
       "      <td>NaN</td>\n",
       "      <td>2.242292e+08</td>\n",
       "    </tr>\n",
       "    <tr>\n",
       "      <th>std</th>\n",
       "      <td>NaN</td>\n",
       "      <td>3.326973e+07</td>\n",
       "    </tr>\n",
       "    <tr>\n",
       "      <th>min</th>\n",
       "      <td>NaN</td>\n",
       "      <td>2.009360e+08</td>\n",
       "    </tr>\n",
       "    <tr>\n",
       "      <th>25%</th>\n",
       "      <td>NaN</td>\n",
       "      <td>2.009360e+08</td>\n",
       "    </tr>\n",
       "    <tr>\n",
       "      <th>50%</th>\n",
       "      <td>NaN</td>\n",
       "      <td>2.009360e+08</td>\n",
       "    </tr>\n",
       "    <tr>\n",
       "      <th>75%</th>\n",
       "      <td>NaN</td>\n",
       "      <td>2.717370e+08</td>\n",
       "    </tr>\n",
       "    <tr>\n",
       "      <th>max</th>\n",
       "      <td>NaN</td>\n",
       "      <td>2.717370e+08</td>\n",
       "    </tr>\n",
       "  </tbody>\n",
       "</table>\n",
       "</div>"
      ],
      "text/plain": [
       "       STOP          CODE\n",
       "count   0.0  4.149000e+03\n",
       "mean    NaN  2.242292e+08\n",
       "std     NaN  3.326973e+07\n",
       "min     NaN  2.009360e+08\n",
       "25%     NaN  2.009360e+08\n",
       "50%     NaN  2.009360e+08\n",
       "75%     NaN  2.717370e+08\n",
       "max     NaN  2.717370e+08"
      ]
     },
     "execution_count": 42,
     "metadata": {},
     "output_type": "execute_result"
    }
   ],
   "source": [
    "conditions.describe()"
   ]
  },
  {
   "cell_type": "code",
   "execution_count": 83,
   "metadata": {},
   "outputs": [
    {
     "data": {
      "text/plain": [
       "False    2784\n",
       "True     1365\n",
       "Name: count, dtype: int64"
      ]
     },
     "execution_count": 83,
     "metadata": {},
     "output_type": "execute_result"
    }
   ],
   "source": [
    "#onditions.duplicated()\n",
    "#conditions.duplicated(subset=['PATIENT'])\n",
    "conditions.duplicated(subset=['PATIENT','ENCOUNTER']).value_counts()"
   ]
  },
  {
   "cell_type": "markdown",
   "metadata": {},
   "source": [
    "### Issues with conditions dataset\n",
    "* Overall this dataset looks fine but we have some issues like empty stop column and we have Anemia patients also with lupus patients and format of datetime and int columns\n",
    "* rename column names from start -> startdate , stop -> stopdate respectively other columns to match other datasets\n",
    "* we have duplicates on patient and encounter column"
   ]
  },
  {
   "cell_type": "markdown",
   "metadata": {},
   "source": [
    "### Encounters Dataset"
   ]
  },
  {
   "cell_type": "code",
   "execution_count": 64,
   "metadata": {},
   "outputs": [
    {
     "data": {
      "text/plain": [
       "(104262, 15)"
      ]
     },
     "execution_count": 64,
     "metadata": {},
     "output_type": "execute_result"
    }
   ],
   "source": [
    "encounters.shape"
   ]
  },
  {
   "cell_type": "code",
   "execution_count": 67,
   "metadata": {},
   "outputs": [
    {
     "data": {
      "text/plain": [
       "Id                         0\n",
       "START                      0\n",
       "STOP                       0\n",
       "PATIENT                    0\n",
       "ORGANIZATION               0\n",
       "PROVIDER                   0\n",
       "PAYER                      0\n",
       "ENCOUNTERCLASS             0\n",
       "CODE                       0\n",
       "DESCRIPTION                0\n",
       "BASE_ENCOUNTER_COST        0\n",
       "TOTAL_CLAIM_COST           0\n",
       "PAYER_COVERAGE             0\n",
       "REASONCODE             91705\n",
       "REASONDESCRIPTION      91705\n",
       "dtype: int64"
      ]
     },
     "execution_count": 67,
     "metadata": {},
     "output_type": "execute_result"
    }
   ],
   "source": [
    "encounters.isna().sum()"
   ]
  },
  {
   "cell_type": "code",
   "execution_count": 68,
   "metadata": {},
   "outputs": [
    {
     "data": {
      "text/html": [
       "<div>\n",
       "<style scoped>\n",
       "    .dataframe tbody tr th:only-of-type {\n",
       "        vertical-align: middle;\n",
       "    }\n",
       "\n",
       "    .dataframe tbody tr th {\n",
       "        vertical-align: top;\n",
       "    }\n",
       "\n",
       "    .dataframe thead th {\n",
       "        text-align: right;\n",
       "    }\n",
       "</style>\n",
       "<table border=\"1\" class=\"dataframe\">\n",
       "  <thead>\n",
       "    <tr style=\"text-align: right;\">\n",
       "      <th></th>\n",
       "      <th>Id</th>\n",
       "      <th>START</th>\n",
       "      <th>STOP</th>\n",
       "      <th>PATIENT</th>\n",
       "      <th>ORGANIZATION</th>\n",
       "      <th>PROVIDER</th>\n",
       "      <th>PAYER</th>\n",
       "      <th>ENCOUNTERCLASS</th>\n",
       "      <th>CODE</th>\n",
       "      <th>DESCRIPTION</th>\n",
       "      <th>BASE_ENCOUNTER_COST</th>\n",
       "      <th>TOTAL_CLAIM_COST</th>\n",
       "      <th>PAYER_COVERAGE</th>\n",
       "      <th>REASONCODE</th>\n",
       "      <th>REASONDESCRIPTION</th>\n",
       "    </tr>\n",
       "  </thead>\n",
       "  <tbody>\n",
       "    <tr>\n",
       "      <th>0</th>\n",
       "      <td>6539c675-dcf2-cace-a90d-7f097d1799b3</td>\n",
       "      <td>2014-02-10T11:00:08Z</td>\n",
       "      <td>2014-02-10T11:15:08Z</td>\n",
       "      <td>54F1059E-6250-3949-6DD0-1DDA9B85D22A</td>\n",
       "      <td>ef42ec52-a1c1-3fc5-8e52-da46f7f3970c</td>\n",
       "      <td>35088bec-f756-35d8-8140-b2b017c0eacc</td>\n",
       "      <td>8fa6c185-e44e-3e34-8bd8-39be8694f4ce</td>\n",
       "      <td>wellness</td>\n",
       "      <td>410620009</td>\n",
       "      <td>Well child visit (procedure)</td>\n",
       "      <td>133.36</td>\n",
       "      <td>405.36</td>\n",
       "      <td>0.0</td>\n",
       "      <td>NaN</td>\n",
       "      <td>None</td>\n",
       "    </tr>\n",
       "    <tr>\n",
       "      <th>1</th>\n",
       "      <td>748a443c-9819-4f3a-8648-0096ace6d3fd</td>\n",
       "      <td>2014-06-04T05:19:43Z</td>\n",
       "      <td>2014-06-04T05:34:43Z</td>\n",
       "      <td>92675303-CA5B-136A-169B-E764C5753F06</td>\n",
       "      <td>02078b23-a943-3175-b5f0-8d386dd8eb56</td>\n",
       "      <td>af22b73b-d38f-3d92-8a95-bd57ac2dc3f1</td>\n",
       "      <td>b046940f-1664-3047-bca7-dfa76be352a4</td>\n",
       "      <td>wellness</td>\n",
       "      <td>410620009</td>\n",
       "      <td>Well child visit (procedure)</td>\n",
       "      <td>133.36</td>\n",
       "      <td>269.36</td>\n",
       "      <td>0.0</td>\n",
       "      <td>NaN</td>\n",
       "      <td>None</td>\n",
       "    </tr>\n",
       "    <tr>\n",
       "      <th>2</th>\n",
       "      <td>678e03b1-21ac-fbfa-3506-17bee72a6335</td>\n",
       "      <td>2015-06-10T05:19:43Z</td>\n",
       "      <td>2015-06-10T05:34:43Z</td>\n",
       "      <td>92675303-CA5B-136A-169B-E764C5753F06</td>\n",
       "      <td>02078b23-a943-3175-b5f0-8d386dd8eb56</td>\n",
       "      <td>af22b73b-d38f-3d92-8a95-bd57ac2dc3f1</td>\n",
       "      <td>b046940f-1664-3047-bca7-dfa76be352a4</td>\n",
       "      <td>wellness</td>\n",
       "      <td>162673000</td>\n",
       "      <td>General examination of patient (procedure)</td>\n",
       "      <td>133.36</td>\n",
       "      <td>269.36</td>\n",
       "      <td>0.0</td>\n",
       "      <td>NaN</td>\n",
       "      <td>None</td>\n",
       "    </tr>\n",
       "    <tr>\n",
       "      <th>3</th>\n",
       "      <td>45987160-8815-858e-893b-6490a63e919c</td>\n",
       "      <td>2015-04-10T03:27:04Z</td>\n",
       "      <td>2015-04-10T03:42:04Z</td>\n",
       "      <td>A0B63E97-B6FD-5FE1-8F2D-2BEC915EFA97</td>\n",
       "      <td>44f0ad91-f33b-3fe5-ba4f-868503d593fe</td>\n",
       "      <td>a79c71d6-e0b4-3450-a0e1-ee08146aeb74</td>\n",
       "      <td>734afbd6-4794-363b-9bc0-6a3981533ed5</td>\n",
       "      <td>wellness</td>\n",
       "      <td>162673000</td>\n",
       "      <td>General examination of patient (procedure)</td>\n",
       "      <td>133.36</td>\n",
       "      <td>677.36</td>\n",
       "      <td>0.0</td>\n",
       "      <td>NaN</td>\n",
       "      <td>None</td>\n",
       "    </tr>\n",
       "    <tr>\n",
       "      <th>4</th>\n",
       "      <td>c56e3b19-5a51-0fc8-a82e-8bf89575ca71</td>\n",
       "      <td>2016-06-15T05:19:43Z</td>\n",
       "      <td>2016-06-15T05:34:43Z</td>\n",
       "      <td>92675303-CA5B-136A-169B-E764C5753F06</td>\n",
       "      <td>02078b23-a943-3175-b5f0-8d386dd8eb56</td>\n",
       "      <td>af22b73b-d38f-3d92-8a95-bd57ac2dc3f1</td>\n",
       "      <td>b046940f-1664-3047-bca7-dfa76be352a4</td>\n",
       "      <td>wellness</td>\n",
       "      <td>162673000</td>\n",
       "      <td>General examination of patient (procedure)</td>\n",
       "      <td>133.36</td>\n",
       "      <td>269.36</td>\n",
       "      <td>0.0</td>\n",
       "      <td>NaN</td>\n",
       "      <td>None</td>\n",
       "    </tr>\n",
       "  </tbody>\n",
       "</table>\n",
       "</div>"
      ],
      "text/plain": [
       "                                     Id                 START  \\\n",
       "0  6539c675-dcf2-cace-a90d-7f097d1799b3  2014-02-10T11:00:08Z   \n",
       "1  748a443c-9819-4f3a-8648-0096ace6d3fd  2014-06-04T05:19:43Z   \n",
       "2  678e03b1-21ac-fbfa-3506-17bee72a6335  2015-06-10T05:19:43Z   \n",
       "3  45987160-8815-858e-893b-6490a63e919c  2015-04-10T03:27:04Z   \n",
       "4  c56e3b19-5a51-0fc8-a82e-8bf89575ca71  2016-06-15T05:19:43Z   \n",
       "\n",
       "                   STOP                               PATIENT  \\\n",
       "0  2014-02-10T11:15:08Z  54F1059E-6250-3949-6DD0-1DDA9B85D22A   \n",
       "1  2014-06-04T05:34:43Z  92675303-CA5B-136A-169B-E764C5753F06   \n",
       "2  2015-06-10T05:34:43Z  92675303-CA5B-136A-169B-E764C5753F06   \n",
       "3  2015-04-10T03:42:04Z  A0B63E97-B6FD-5FE1-8F2D-2BEC915EFA97   \n",
       "4  2016-06-15T05:34:43Z  92675303-CA5B-136A-169B-E764C5753F06   \n",
       "\n",
       "                           ORGANIZATION                              PROVIDER  \\\n",
       "0  ef42ec52-a1c1-3fc5-8e52-da46f7f3970c  35088bec-f756-35d8-8140-b2b017c0eacc   \n",
       "1  02078b23-a943-3175-b5f0-8d386dd8eb56  af22b73b-d38f-3d92-8a95-bd57ac2dc3f1   \n",
       "2  02078b23-a943-3175-b5f0-8d386dd8eb56  af22b73b-d38f-3d92-8a95-bd57ac2dc3f1   \n",
       "3  44f0ad91-f33b-3fe5-ba4f-868503d593fe  a79c71d6-e0b4-3450-a0e1-ee08146aeb74   \n",
       "4  02078b23-a943-3175-b5f0-8d386dd8eb56  af22b73b-d38f-3d92-8a95-bd57ac2dc3f1   \n",
       "\n",
       "                                  PAYER ENCOUNTERCLASS       CODE  \\\n",
       "0  8fa6c185-e44e-3e34-8bd8-39be8694f4ce       wellness  410620009   \n",
       "1  b046940f-1664-3047-bca7-dfa76be352a4       wellness  410620009   \n",
       "2  b046940f-1664-3047-bca7-dfa76be352a4       wellness  162673000   \n",
       "3  734afbd6-4794-363b-9bc0-6a3981533ed5       wellness  162673000   \n",
       "4  b046940f-1664-3047-bca7-dfa76be352a4       wellness  162673000   \n",
       "\n",
       "                                  DESCRIPTION  BASE_ENCOUNTER_COST  \\\n",
       "0                Well child visit (procedure)               133.36   \n",
       "1                Well child visit (procedure)               133.36   \n",
       "2  General examination of patient (procedure)               133.36   \n",
       "3  General examination of patient (procedure)               133.36   \n",
       "4  General examination of patient (procedure)               133.36   \n",
       "\n",
       "   TOTAL_CLAIM_COST  PAYER_COVERAGE  REASONCODE REASONDESCRIPTION  \n",
       "0            405.36             0.0         NaN              None  \n",
       "1            269.36             0.0         NaN              None  \n",
       "2            269.36             0.0         NaN              None  \n",
       "3            677.36             0.0         NaN              None  \n",
       "4            269.36             0.0         NaN              None  "
      ]
     },
     "execution_count": 68,
     "metadata": {},
     "output_type": "execute_result"
    }
   ],
   "source": [
    "encounters.head()"
   ]
  },
  {
   "cell_type": "code",
   "execution_count": 88,
   "metadata": {},
   "outputs": [
    {
     "data": {
      "text/plain": [
       "CODE\n",
       "162673000    40380\n",
       "410620009    38431\n",
       "33879002     12894\n",
       "185347001    12557\n",
       "Name: count, dtype: int64"
      ]
     },
     "execution_count": 88,
     "metadata": {},
     "output_type": "execute_result"
    }
   ],
   "source": [
    "#encounters['BASE_ENCOUNTER_COST'].value_counts()\n",
    "encounters['CODE'].value_counts()"
   ]
  },
  {
   "cell_type": "code",
   "execution_count": 101,
   "metadata": {},
   "outputs": [
    {
     "data": {
      "text/html": [
       "<div>\n",
       "<style scoped>\n",
       "    .dataframe tbody tr th:only-of-type {\n",
       "        vertical-align: middle;\n",
       "    }\n",
       "\n",
       "    .dataframe tbody tr th {\n",
       "        vertical-align: top;\n",
       "    }\n",
       "\n",
       "    .dataframe thead th {\n",
       "        text-align: right;\n",
       "    }\n",
       "</style>\n",
       "<table border=\"1\" class=\"dataframe\">\n",
       "  <thead>\n",
       "    <tr style=\"text-align: right;\">\n",
       "      <th></th>\n",
       "      <th>Id</th>\n",
       "      <th>START</th>\n",
       "      <th>STOP</th>\n",
       "      <th>PATIENT</th>\n",
       "      <th>ORGANIZATION</th>\n",
       "      <th>PROVIDER</th>\n",
       "      <th>PAYER</th>\n",
       "      <th>ENCOUNTERCLASS</th>\n",
       "      <th>CODE</th>\n",
       "      <th>DESCRIPTION</th>\n",
       "      <th>BASE_ENCOUNTER_COST</th>\n",
       "      <th>TOTAL_CLAIM_COST</th>\n",
       "      <th>PAYER_COVERAGE</th>\n",
       "      <th>REASONCODE</th>\n",
       "      <th>REASONDESCRIPTION</th>\n",
       "    </tr>\n",
       "  </thead>\n",
       "  <tbody>\n",
       "    <tr>\n",
       "      <th>23</th>\n",
       "      <td>402dfaeb-1888-f562-4651-f75203eb1e28</td>\n",
       "      <td>2020-04-22T02:47:09Z</td>\n",
       "      <td>2020-04-22T03:02:09Z</td>\n",
       "      <td>28D7B56C-6056-D0A2-2991-39D6E917216C</td>\n",
       "      <td>5d743a01-62aa-3db0-9f17-67b01682b591</td>\n",
       "      <td>dbed25fb-4b52-3b88-b57a-ecb49aca9c84</td>\n",
       "      <td>0133f751-9229-3cfd-815f-b6d4979bdd6a</td>\n",
       "      <td>ambulatory</td>\n",
       "      <td>185347001</td>\n",
       "      <td>Encounter for problem</td>\n",
       "      <td>68.26</td>\n",
       "      <td>68.26</td>\n",
       "      <td>0.0</td>\n",
       "      <td>200936003.0</td>\n",
       "      <td>Lupus erythematosus</td>\n",
       "    </tr>\n",
       "  </tbody>\n",
       "</table>\n",
       "</div>"
      ],
      "text/plain": [
       "                                      Id                 START  \\\n",
       "23  402dfaeb-1888-f562-4651-f75203eb1e28  2020-04-22T02:47:09Z   \n",
       "\n",
       "                    STOP                               PATIENT  \\\n",
       "23  2020-04-22T03:02:09Z  28D7B56C-6056-D0A2-2991-39D6E917216C   \n",
       "\n",
       "                            ORGANIZATION  \\\n",
       "23  5d743a01-62aa-3db0-9f17-67b01682b591   \n",
       "\n",
       "                                PROVIDER  \\\n",
       "23  dbed25fb-4b52-3b88-b57a-ecb49aca9c84   \n",
       "\n",
       "                                   PAYER ENCOUNTERCLASS       CODE  \\\n",
       "23  0133f751-9229-3cfd-815f-b6d4979bdd6a     ambulatory  185347001   \n",
       "\n",
       "              DESCRIPTION  BASE_ENCOUNTER_COST  TOTAL_CLAIM_COST  \\\n",
       "23  Encounter for problem                68.26             68.26   \n",
       "\n",
       "    PAYER_COVERAGE   REASONCODE    REASONDESCRIPTION  \n",
       "23             0.0  200936003.0  Lupus erythematosus  "
      ]
     },
     "execution_count": 101,
     "metadata": {},
     "output_type": "execute_result"
    }
   ],
   "source": [
    "encounters[encounters['Id'] == '402dfaeb-1888-f562-4651-f75203eb1e28']"
   ]
  },
  {
   "cell_type": "code",
   "execution_count": 86,
   "metadata": {},
   "outputs": [
    {
     "data": {
      "text/plain": [
       "0         False\n",
       "1         False\n",
       "2         False\n",
       "3         False\n",
       "4         False\n",
       "          ...  \n",
       "104257    False\n",
       "104258    False\n",
       "104259    False\n",
       "104260    False\n",
       "104261    False\n",
       "Length: 104262, dtype: bool"
      ]
     },
     "execution_count": 86,
     "metadata": {},
     "output_type": "execute_result"
    }
   ],
   "source": [
    "encounters.duplicated(subset=['Id'])"
   ]
  },
  {
   "cell_type": "code",
   "execution_count": 69,
   "metadata": {},
   "outputs": [
    {
     "data": {
      "text/html": [
       "<div>\n",
       "<style scoped>\n",
       "    .dataframe tbody tr th:only-of-type {\n",
       "        vertical-align: middle;\n",
       "    }\n",
       "\n",
       "    .dataframe tbody tr th {\n",
       "        vertical-align: top;\n",
       "    }\n",
       "\n",
       "    .dataframe thead th {\n",
       "        text-align: right;\n",
       "    }\n",
       "</style>\n",
       "<table border=\"1\" class=\"dataframe\">\n",
       "  <thead>\n",
       "    <tr style=\"text-align: right;\">\n",
       "      <th></th>\n",
       "      <th>CODE</th>\n",
       "      <th>BASE_ENCOUNTER_COST</th>\n",
       "      <th>TOTAL_CLAIM_COST</th>\n",
       "      <th>PAYER_COVERAGE</th>\n",
       "      <th>REASONCODE</th>\n",
       "    </tr>\n",
       "  </thead>\n",
       "  <tbody>\n",
       "    <tr>\n",
       "      <th>count</th>\n",
       "      <td>1.042620e+05</td>\n",
       "      <td>104262.000000</td>\n",
       "      <td>104262.000000</td>\n",
       "      <td>104262.000000</td>\n",
       "      <td>1.255700e+04</td>\n",
       "    </tr>\n",
       "    <tr>\n",
       "      <th>mean</th>\n",
       "      <td>2.408693e+08</td>\n",
       "      <td>123.134884</td>\n",
       "      <td>319.159362</td>\n",
       "      <td>49.636078</td>\n",
       "      <td>2.047645e+08</td>\n",
       "    </tr>\n",
       "    <tr>\n",
       "      <th>std</th>\n",
       "      <td>1.366000e+08</td>\n",
       "      <td>21.180931</td>\n",
       "      <td>210.404781</td>\n",
       "      <td>142.918605</td>\n",
       "      <td>1.601317e+07</td>\n",
       "    </tr>\n",
       "    <tr>\n",
       "      <th>min</th>\n",
       "      <td>3.387900e+07</td>\n",
       "      <td>68.260000</td>\n",
       "      <td>68.260000</td>\n",
       "      <td>0.000000</td>\n",
       "      <td>2.009360e+08</td>\n",
       "    </tr>\n",
       "    <tr>\n",
       "      <th>25%</th>\n",
       "      <td>1.626730e+08</td>\n",
       "      <td>133.360000</td>\n",
       "      <td>249.770000</td>\n",
       "      <td>0.000000</td>\n",
       "      <td>2.009360e+08</td>\n",
       "    </tr>\n",
       "    <tr>\n",
       "      <th>50%</th>\n",
       "      <td>1.626730e+08</td>\n",
       "      <td>133.360000</td>\n",
       "      <td>269.360000</td>\n",
       "      <td>0.000000</td>\n",
       "      <td>2.009360e+08</td>\n",
       "    </tr>\n",
       "    <tr>\n",
       "      <th>75%</th>\n",
       "      <td>4.106200e+08</td>\n",
       "      <td>133.360000</td>\n",
       "      <td>269.360000</td>\n",
       "      <td>0.000000</td>\n",
       "      <td>2.009360e+08</td>\n",
       "    </tr>\n",
       "    <tr>\n",
       "      <th>max</th>\n",
       "      <td>4.106200e+08</td>\n",
       "      <td>133.360000</td>\n",
       "      <td>4345.410000</td>\n",
       "      <td>3073.440000</td>\n",
       "      <td>2.717370e+08</td>\n",
       "    </tr>\n",
       "  </tbody>\n",
       "</table>\n",
       "</div>"
      ],
      "text/plain": [
       "               CODE  BASE_ENCOUNTER_COST  TOTAL_CLAIM_COST  PAYER_COVERAGE  \\\n",
       "count  1.042620e+05        104262.000000     104262.000000   104262.000000   \n",
       "mean   2.408693e+08           123.134884        319.159362       49.636078   \n",
       "std    1.366000e+08            21.180931        210.404781      142.918605   \n",
       "min    3.387900e+07            68.260000         68.260000        0.000000   \n",
       "25%    1.626730e+08           133.360000        249.770000        0.000000   \n",
       "50%    1.626730e+08           133.360000        269.360000        0.000000   \n",
       "75%    4.106200e+08           133.360000        269.360000        0.000000   \n",
       "max    4.106200e+08           133.360000       4345.410000     3073.440000   \n",
       "\n",
       "         REASONCODE  \n",
       "count  1.255700e+04  \n",
       "mean   2.047645e+08  \n",
       "std    1.601317e+07  \n",
       "min    2.009360e+08  \n",
       "25%    2.009360e+08  \n",
       "50%    2.009360e+08  \n",
       "75%    2.009360e+08  \n",
       "max    2.717370e+08  "
      ]
     },
     "execution_count": 69,
     "metadata": {},
     "output_type": "execute_result"
    }
   ],
   "source": [
    "encounters.describe()"
   ]
  },
  {
   "cell_type": "markdown",
   "metadata": {},
   "source": [
    "### Issues with dataset\n",
    "* Format Date and rename columns \n",
    "* Fix reasondescription column for proper formatting\n"
   ]
  },
  {
   "cell_type": "markdown",
   "metadata": {},
   "source": [
    "### symptoms dataset"
   ]
  },
  {
   "cell_type": "code",
   "execution_count": 72,
   "metadata": {},
   "outputs": [
    {
     "data": {
      "text/plain": [
       "(1423, 9)"
      ]
     },
     "execution_count": 72,
     "metadata": {},
     "output_type": "execute_result"
    }
   ],
   "source": [
    "symptoms.shape"
   ]
  },
  {
   "cell_type": "code",
   "execution_count": 73,
   "metadata": {},
   "outputs": [
    {
     "data": {
      "text/plain": [
       "PATIENT          object\n",
       "GENDER          float64\n",
       "RACE             object\n",
       "ETHNICITY        object\n",
       "AGE_BEGIN         int64\n",
       "AGE_END         float64\n",
       "PATHOLOGY        object\n",
       "NUM_SYMPTOMS      int64\n",
       "SYMPTOMS         object\n",
       "dtype: object"
      ]
     },
     "execution_count": 73,
     "metadata": {},
     "output_type": "execute_result"
    }
   ],
   "source": [
    "symptoms.dtypes"
   ]
  },
  {
   "cell_type": "code",
   "execution_count": 74,
   "metadata": {},
   "outputs": [
    {
     "data": {
      "text/html": [
       "<div>\n",
       "<style scoped>\n",
       "    .dataframe tbody tr th:only-of-type {\n",
       "        vertical-align: middle;\n",
       "    }\n",
       "\n",
       "    .dataframe tbody tr th {\n",
       "        vertical-align: top;\n",
       "    }\n",
       "\n",
       "    .dataframe thead th {\n",
       "        text-align: right;\n",
       "    }\n",
       "</style>\n",
       "<table border=\"1\" class=\"dataframe\">\n",
       "  <thead>\n",
       "    <tr style=\"text-align: right;\">\n",
       "      <th></th>\n",
       "      <th>PATIENT</th>\n",
       "      <th>GENDER</th>\n",
       "      <th>RACE</th>\n",
       "      <th>ETHNICITY</th>\n",
       "      <th>AGE_BEGIN</th>\n",
       "      <th>AGE_END</th>\n",
       "      <th>PATHOLOGY</th>\n",
       "      <th>NUM_SYMPTOMS</th>\n",
       "      <th>SYMPTOMS</th>\n",
       "    </tr>\n",
       "  </thead>\n",
       "  <tbody>\n",
       "    <tr>\n",
       "      <th>0</th>\n",
       "      <td>28d7b56c-6056-d0a2-2991-39d6e917216c</td>\n",
       "      <td>NaN</td>\n",
       "      <td>white</td>\n",
       "      <td>hispanic</td>\n",
       "      <td>26</td>\n",
       "      <td>NaN</td>\n",
       "      <td>Lupus erythematosus</td>\n",
       "      <td>4</td>\n",
       "      <td>Rash:34;Joint Pain:39;Fatigue:9;Fever:12</td>\n",
       "    </tr>\n",
       "    <tr>\n",
       "      <th>1</th>\n",
       "      <td>6c434506-fb4b-3e3f-c19d-553dec3b6c17</td>\n",
       "      <td>NaN</td>\n",
       "      <td>black</td>\n",
       "      <td>hispanic</td>\n",
       "      <td>58</td>\n",
       "      <td>NaN</td>\n",
       "      <td>Lupus erythematosus</td>\n",
       "      <td>4</td>\n",
       "      <td>Rash:19;Joint Pain:44;Fatigue:48;Fever:15</td>\n",
       "    </tr>\n",
       "    <tr>\n",
       "      <th>2</th>\n",
       "      <td>44a8ca45-6c6e-38bb-fac0-ddbf7a7ee3a4</td>\n",
       "      <td>NaN</td>\n",
       "      <td>white</td>\n",
       "      <td>nonhispanic</td>\n",
       "      <td>50</td>\n",
       "      <td>NaN</td>\n",
       "      <td>Lupus erythematosus</td>\n",
       "      <td>4</td>\n",
       "      <td>Rash:2;Joint Pain:32;Fatigue:12;Fever:6</td>\n",
       "    </tr>\n",
       "    <tr>\n",
       "      <th>3</th>\n",
       "      <td>780ec78c-22a0-fcdb-17c6-ae9b2fcace9c</td>\n",
       "      <td>NaN</td>\n",
       "      <td>white</td>\n",
       "      <td>hispanic</td>\n",
       "      <td>39</td>\n",
       "      <td>NaN</td>\n",
       "      <td>Lupus erythematosus</td>\n",
       "      <td>4</td>\n",
       "      <td>Rash:30;Joint Pain:30;Fatigue:41;Fever:19</td>\n",
       "    </tr>\n",
       "    <tr>\n",
       "      <th>4</th>\n",
       "      <td>cf5956bb-34f2-841b-2505-57b99991c377</td>\n",
       "      <td>NaN</td>\n",
       "      <td>white</td>\n",
       "      <td>nonhispanic</td>\n",
       "      <td>29</td>\n",
       "      <td>NaN</td>\n",
       "      <td>Lupus erythematosus</td>\n",
       "      <td>3</td>\n",
       "      <td>Rash:28;Joint Pain:26;Fatigue:33;Fever:5</td>\n",
       "    </tr>\n",
       "  </tbody>\n",
       "</table>\n",
       "</div>"
      ],
      "text/plain": [
       "                                PATIENT  GENDER   RACE    ETHNICITY  \\\n",
       "0  28d7b56c-6056-d0a2-2991-39d6e917216c     NaN  white     hispanic   \n",
       "1  6c434506-fb4b-3e3f-c19d-553dec3b6c17     NaN  black     hispanic   \n",
       "2  44a8ca45-6c6e-38bb-fac0-ddbf7a7ee3a4     NaN  white  nonhispanic   \n",
       "3  780ec78c-22a0-fcdb-17c6-ae9b2fcace9c     NaN  white     hispanic   \n",
       "4  cf5956bb-34f2-841b-2505-57b99991c377     NaN  white  nonhispanic   \n",
       "\n",
       "   AGE_BEGIN  AGE_END            PATHOLOGY  NUM_SYMPTOMS  \\\n",
       "0         26      NaN  Lupus erythematosus             4   \n",
       "1         58      NaN  Lupus erythematosus             4   \n",
       "2         50      NaN  Lupus erythematosus             4   \n",
       "3         39      NaN  Lupus erythematosus             4   \n",
       "4         29      NaN  Lupus erythematosus             3   \n",
       "\n",
       "                                    SYMPTOMS  \n",
       "0   Rash:34;Joint Pain:39;Fatigue:9;Fever:12  \n",
       "1  Rash:19;Joint Pain:44;Fatigue:48;Fever:15  \n",
       "2    Rash:2;Joint Pain:32;Fatigue:12;Fever:6  \n",
       "3  Rash:30;Joint Pain:30;Fatigue:41;Fever:19  \n",
       "4   Rash:28;Joint Pain:26;Fatigue:33;Fever:5  "
      ]
     },
     "execution_count": 74,
     "metadata": {},
     "output_type": "execute_result"
    }
   ],
   "source": [
    "symptoms.head()"
   ]
  },
  {
   "cell_type": "code",
   "execution_count": 107,
   "metadata": {},
   "outputs": [
    {
     "data": {
      "text/plain": [
       "False    948\n",
       "True     475\n",
       "Name: count, dtype: int64"
      ]
     },
     "execution_count": 107,
     "metadata": {},
     "output_type": "execute_result"
    }
   ],
   "source": [
    "#symptoms.duplicated()\n",
    "symptoms.duplicated(subset=['PATIENT']).value_counts()"
   ]
  },
  {
   "cell_type": "code",
   "execution_count": 104,
   "metadata": {},
   "outputs": [
    {
     "data": {
      "text/plain": [
       "<bound method DataFrame.value_counts of                                    PATIENT  GENDER    RACE    ETHNICITY  \\\n",
       "0     28d7b56c-6056-d0a2-2991-39d6e917216c     NaN   white     hispanic   \n",
       "1     6c434506-fb4b-3e3f-c19d-553dec3b6c17     NaN   black     hispanic   \n",
       "2     44a8ca45-6c6e-38bb-fac0-ddbf7a7ee3a4     NaN   white  nonhispanic   \n",
       "3     780ec78c-22a0-fcdb-17c6-ae9b2fcace9c     NaN   white     hispanic   \n",
       "4     cf5956bb-34f2-841b-2505-57b99991c377     NaN   white  nonhispanic   \n",
       "...                                    ...     ...     ...          ...   \n",
       "1418  110d2862-432d-5b0d-c83c-0096fc84fc64     NaN  native     hispanic   \n",
       "1419  110d2862-432d-5b0d-c83c-0096fc84fc64     NaN  native     hispanic   \n",
       "1420  ae46ea17-eb0a-6159-14dd-9d9fa7956be4     NaN   white     hispanic   \n",
       "1421  8b509749-aaab-30b8-9a67-e8620eec19f0     NaN   white     hispanic   \n",
       "1422  8b509749-aaab-30b8-9a67-e8620eec19f0     NaN   white     hispanic   \n",
       "\n",
       "      AGE_BEGIN  AGE_END            PATHOLOGY  NUM_SYMPTOMS  \\\n",
       "0            26      NaN  Lupus erythematosus             4   \n",
       "1            58      NaN  Lupus erythematosus             4   \n",
       "2            50      NaN  Lupus erythematosus             4   \n",
       "3            39      NaN  Lupus erythematosus             4   \n",
       "4            29      NaN  Lupus erythematosus             3   \n",
       "...         ...      ...                  ...           ...   \n",
       "1418         31      NaN  Lupus erythematosus             4   \n",
       "1419         31      NaN    Anemia (disorder)             4   \n",
       "1420         57      NaN  Lupus erythematosus             4   \n",
       "1421         39      NaN  Lupus erythematosus             4   \n",
       "1422         39      NaN    Anemia (disorder)             4   \n",
       "\n",
       "                                       SYMPTOMS  \n",
       "0      Rash:34;Joint Pain:39;Fatigue:9;Fever:12  \n",
       "1     Rash:19;Joint Pain:44;Fatigue:48;Fever:15  \n",
       "2       Rash:2;Joint Pain:32;Fatigue:12;Fever:6  \n",
       "3     Rash:30;Joint Pain:30;Fatigue:41;Fever:19  \n",
       "4      Rash:28;Joint Pain:26;Fatigue:33;Fever:5  \n",
       "...                                         ...  \n",
       "1418  Rash:34;Joint Pain:41;Fatigue:41;Fever:19  \n",
       "1419  Rash:34;Joint Pain:41;Fatigue:41;Fever:19  \n",
       "1420  Rash:10;Joint Pain:33;Fatigue:44;Fever:12  \n",
       "1421    Rash:17;Joint Pain:8;Fatigue:7;Fever:16  \n",
       "1422    Rash:17;Joint Pain:8;Fatigue:7;Fever:16  \n",
       "\n",
       "[1423 rows x 9 columns]>"
      ]
     },
     "execution_count": 104,
     "metadata": {},
     "output_type": "execute_result"
    }
   ],
   "source": [
    "symptoms.value_counts"
   ]
  },
  {
   "cell_type": "markdown",
   "metadata": {},
   "source": [
    "### Issues with symptoms dataset\n",
    "* Duplicates with patient\n",
    "* rename column names\n",
    "* Empty gender column"
   ]
  },
  {
   "cell_type": "markdown",
   "metadata": {},
   "source": [
    "## medications daatset"
   ]
  },
  {
   "cell_type": "code",
   "execution_count": null,
   "metadata": {},
   "outputs": [],
   "source": []
  },
  {
   "cell_type": "code",
   "execution_count": null,
   "metadata": {},
   "outputs": [],
   "source": []
  },
  {
   "cell_type": "code",
   "execution_count": null,
   "metadata": {},
   "outputs": [],
   "source": []
  },
  {
   "cell_type": "code",
   "execution_count": null,
   "metadata": {},
   "outputs": [],
   "source": []
  },
  {
   "cell_type": "code",
   "execution_count": null,
   "metadata": {},
   "outputs": [],
   "source": []
  }
 ],
 "metadata": {
  "kernelspec": {
   "display_name": "Python 3",
   "language": "python",
   "name": "python3"
  },
  "language_info": {
   "codemirror_mode": {
    "name": "ipython",
    "version": 3
   },
   "file_extension": ".py",
   "mimetype": "text/x-python",
   "name": "python",
   "nbconvert_exporter": "python",
   "pygments_lexer": "ipython3",
   "version": "3.12.3"
  }
 },
 "nbformat": 4,
 "nbformat_minor": 2
}
