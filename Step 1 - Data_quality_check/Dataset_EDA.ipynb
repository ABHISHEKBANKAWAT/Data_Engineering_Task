{
 "cells": [
  {
   "cell_type": "code",
   "execution_count": null,
   "metadata": {},
   "outputs": [],
   "source": [
    "#importing necessary libraries\n",
    "import pandas as pd\n",
    "import numpy as np\n",
    "import matplotlib.pyplot as plt\n",
    "import seaborn as sns\n",
    "import pyarrow\n",
    "import graphviz"
   ]
  },
  {
   "cell_type": "code",
   "execution_count": 2,
   "metadata": {},
   "outputs": [],
   "source": [
    "# Load datasets\n",
    "conditions = pd.read_excel(r\"C:\\Users\\ABHISHEK BANKAWAT\\Desktop\\Data_Engineering_Task\\Dataset\\conditions.xlsx\")\n",
    "encounters = pd.read_parquet(r\"C:\\Users\\ABHISHEK BANKAWAT\\Desktop\\Data_Engineering_Task\\Dataset\\encounters.parquet\", engine='pyarrow')\n",
    "symptoms = pd.read_csv(r\"C:\\Users\\ABHISHEK BANKAWAT\\Desktop\\Data_Engineering_Task\\Dataset\\symptoms.csv\")\n",
    "medications = pd.read_csv(r\"C:\\Users\\ABHISHEK BANKAWAT\\Desktop\\Data_Engineering_Task\\Dataset\\medications.csv\")\n",
    "patients = pd.read_csv(r\"C:\\Users\\ABHISHEK BANKAWAT\\Desktop\\Data_Engineering_Task\\Dataset\\patients.csv\")"
   ]
  },
  {
   "cell_type": "markdown",
   "metadata": {},
   "source": [
    "### Exploring datasets for Data Quality Issues"
   ]
  },
  {
   "cell_type": "code",
   "execution_count": 4,
   "metadata": {},
   "outputs": [
    {
     "data": {
      "text/html": [
       "<div>\n",
       "<style scoped>\n",
       "    .dataframe tbody tr th:only-of-type {\n",
       "        vertical-align: middle;\n",
       "    }\n",
       "\n",
       "    .dataframe tbody tr th {\n",
       "        vertical-align: top;\n",
       "    }\n",
       "\n",
       "    .dataframe thead th {\n",
       "        text-align: right;\n",
       "    }\n",
       "</style>\n",
       "<table border=\"1\" class=\"dataframe\">\n",
       "  <thead>\n",
       "    <tr style=\"text-align: right;\">\n",
       "      <th></th>\n",
       "      <th>PATIENT_ID</th>\n",
       "      <th>BIRTHDATE</th>\n",
       "      <th>DEATHDATE</th>\n",
       "      <th>SSN</th>\n",
       "      <th>DRIVERS</th>\n",
       "      <th>PASSPORT</th>\n",
       "      <th>PREFIX</th>\n",
       "      <th>FIRST</th>\n",
       "      <th>LAST</th>\n",
       "      <th>SUFFIX</th>\n",
       "      <th>...</th>\n",
       "      <th>CITY</th>\n",
       "      <th>STATE</th>\n",
       "      <th>COUNTY</th>\n",
       "      <th>FIPS</th>\n",
       "      <th>ZIP</th>\n",
       "      <th>LAT</th>\n",
       "      <th>LON</th>\n",
       "      <th>HEALTHCARE_EXPENSES</th>\n",
       "      <th>HEALTHCARE_COVERAGE</th>\n",
       "      <th>INCOME</th>\n",
       "    </tr>\n",
       "  </thead>\n",
       "  <tbody>\n",
       "    <tr>\n",
       "      <th>0</th>\n",
       "      <td>54f1059e-6250-3949-6dd0-1dda9b85d22a</td>\n",
       "      <td>2002-01-21</td>\n",
       "      <td>NaN</td>\n",
       "      <td>999-28-3364</td>\n",
       "      <td>S99987398</td>\n",
       "      <td>X44428214X</td>\n",
       "      <td>Ms.</td>\n",
       "      <td>Fredricka415</td>\n",
       "      <td>Crist667</td>\n",
       "      <td>NaN</td>\n",
       "      <td>...</td>\n",
       "      <td>Fort Worth</td>\n",
       "      <td>Texas</td>\n",
       "      <td>Tarrant County</td>\n",
       "      <td>48439.0</td>\n",
       "      <td>76104</td>\n",
       "      <td>0.329154</td>\n",
       "      <td>-97.399553</td>\n",
       "      <td>9990.08</td>\n",
       "      <td>0.0</td>\n",
       "      <td>35460</td>\n",
       "    </tr>\n",
       "    <tr>\n",
       "      <th>1</th>\n",
       "      <td>92675303-ca5b-136a-169b-e764c5753f06</td>\n",
       "      <td>1997-04-16</td>\n",
       "      <td>NaN</td>\n",
       "      <td>999-62-9859</td>\n",
       "      <td>S99999770</td>\n",
       "      <td>X75016560X</td>\n",
       "      <td>Mr.</td>\n",
       "      <td>Lorenzo669</td>\n",
       "      <td>Urrutia540</td>\n",
       "      <td>NaN</td>\n",
       "      <td>...</td>\n",
       "      <td>Arlington</td>\n",
       "      <td>Texas</td>\n",
       "      <td>Tarrant County</td>\n",
       "      <td>48439.0</td>\n",
       "      <td>76006</td>\n",
       "      <td>0.328145</td>\n",
       "      <td>-97.068885</td>\n",
       "      <td>10936.80</td>\n",
       "      <td>0.0</td>\n",
       "      <td>88407</td>\n",
       "    </tr>\n",
       "    <tr>\n",
       "      <th>2</th>\n",
       "      <td>a0b63e97-b6fd-5fe1-8f2d-2bec915efa97</td>\n",
       "      <td>1993-02-04</td>\n",
       "      <td>NaN</td>\n",
       "      <td>999-53-6488</td>\n",
       "      <td>S99979170</td>\n",
       "      <td>X60079936X</td>\n",
       "      <td>Mr.</td>\n",
       "      <td>Luther918</td>\n",
       "      <td>MacGyver246</td>\n",
       "      <td>NaN</td>\n",
       "      <td>...</td>\n",
       "      <td>Houston</td>\n",
       "      <td>Texas</td>\n",
       "      <td>Harris County</td>\n",
       "      <td>48339.0</td>\n",
       "      <td>77357</td>\n",
       "      <td>0.300834</td>\n",
       "      <td>-95.649706</td>\n",
       "      <td>10662.16</td>\n",
       "      <td>0.0</td>\n",
       "      <td>41800</td>\n",
       "    </tr>\n",
       "    <tr>\n",
       "      <th>3</th>\n",
       "      <td>abc59f62-dc5a-5095-1141-80b4ee8be73b</td>\n",
       "      <td>1995-05-23</td>\n",
       "      <td>NaN</td>\n",
       "      <td>999-37-1058</td>\n",
       "      <td>S99981031</td>\n",
       "      <td>X14759314X</td>\n",
       "      <td>Mrs.</td>\n",
       "      <td>Jacque955</td>\n",
       "      <td>Jones311</td>\n",
       "      <td>NaN</td>\n",
       "      <td>...</td>\n",
       "      <td>Waco</td>\n",
       "      <td>Texas</td>\n",
       "      <td>McLennan County</td>\n",
       "      <td>48309.0</td>\n",
       "      <td>76655</td>\n",
       "      <td>0.315173</td>\n",
       "      <td>-97.292558</td>\n",
       "      <td>11455.93</td>\n",
       "      <td>0.0</td>\n",
       "      <td>41915</td>\n",
       "    </tr>\n",
       "    <tr>\n",
       "      <th>4</th>\n",
       "      <td>28d7b56c-6056-d0a2-2991-39d6e917216c</td>\n",
       "      <td>1993-11-13</td>\n",
       "      <td>NaN</td>\n",
       "      <td>999-31-6091</td>\n",
       "      <td>S99958903</td>\n",
       "      <td>X63033472X</td>\n",
       "      <td>Mrs.</td>\n",
       "      <td>Angela104</td>\n",
       "      <td>Stanton715</td>\n",
       "      <td>NaN</td>\n",
       "      <td>...</td>\n",
       "      <td>Levelland</td>\n",
       "      <td>Texas</td>\n",
       "      <td>Hockley County</td>\n",
       "      <td>48219.0</td>\n",
       "      <td>79336</td>\n",
       "      <td>0.337037</td>\n",
       "      <td>-102.361829</td>\n",
       "      <td>12449.11</td>\n",
       "      <td>0.0</td>\n",
       "      <td>67198</td>\n",
       "    </tr>\n",
       "  </tbody>\n",
       "</table>\n",
       "<p>5 rows × 27 columns</p>\n",
       "</div>"
      ],
      "text/plain": [
       "                             PATIENT_ID   BIRTHDATE  DEATHDATE          SSN  \\\n",
       "0  54f1059e-6250-3949-6dd0-1dda9b85d22a  2002-01-21        NaN  999-28-3364   \n",
       "1  92675303-ca5b-136a-169b-e764c5753f06  1997-04-16        NaN  999-62-9859   \n",
       "2  a0b63e97-b6fd-5fe1-8f2d-2bec915efa97  1993-02-04        NaN  999-53-6488   \n",
       "3  abc59f62-dc5a-5095-1141-80b4ee8be73b  1995-05-23        NaN  999-37-1058   \n",
       "4  28d7b56c-6056-d0a2-2991-39d6e917216c  1993-11-13        NaN  999-31-6091   \n",
       "\n",
       "     DRIVERS    PASSPORT PREFIX         FIRST         LAST SUFFIX  ...  \\\n",
       "0  S99987398  X44428214X    Ms.  Fredricka415     Crist667    NaN  ...   \n",
       "1  S99999770  X75016560X    Mr.    Lorenzo669   Urrutia540    NaN  ...   \n",
       "2  S99979170  X60079936X    Mr.     Luther918  MacGyver246    NaN  ...   \n",
       "3  S99981031  X14759314X   Mrs.     Jacque955     Jones311    NaN  ...   \n",
       "4  S99958903  X63033472X   Mrs.     Angela104   Stanton715    NaN  ...   \n",
       "\n",
       "         CITY  STATE           COUNTY     FIPS    ZIP       LAT         LON  \\\n",
       "0  Fort Worth  Texas   Tarrant County  48439.0  76104  0.329154  -97.399553   \n",
       "1   Arlington  Texas   Tarrant County  48439.0  76006  0.328145  -97.068885   \n",
       "2     Houston  Texas    Harris County  48339.0  77357  0.300834  -95.649706   \n",
       "3        Waco  Texas  McLennan County  48309.0  76655  0.315173  -97.292558   \n",
       "4   Levelland  Texas   Hockley County  48219.0  79336  0.337037 -102.361829   \n",
       "\n",
       "  HEALTHCARE_EXPENSES HEALTHCARE_COVERAGE INCOME  \n",
       "0             9990.08                 0.0  35460  \n",
       "1            10936.80                 0.0  88407  \n",
       "2            10662.16                 0.0  41800  \n",
       "3            11455.93                 0.0  41915  \n",
       "4            12449.11                 0.0  67198  \n",
       "\n",
       "[5 rows x 27 columns]"
      ]
     },
     "execution_count": 4,
     "metadata": {},
     "output_type": "execute_result"
    }
   ],
   "source": [
    "patients.head()"
   ]
  },
  {
   "cell_type": "code",
   "execution_count": 7,
   "metadata": {},
   "outputs": [
    {
     "data": {
      "text/plain": [
       "(10000, 27)"
      ]
     },
     "execution_count": 7,
     "metadata": {},
     "output_type": "execute_result"
    }
   ],
   "source": [
    "patients.shape"
   ]
  },
  {
   "cell_type": "code",
   "execution_count": 6,
   "metadata": {},
   "outputs": [
    {
     "data": {
      "text/plain": [
       "PATIENT_ID              object\n",
       "BIRTHDATE               object\n",
       "DEATHDATE              float64\n",
       "SSN                     object\n",
       "DRIVERS                 object\n",
       "PASSPORT                object\n",
       "PREFIX                  object\n",
       "FIRST                   object\n",
       "LAST                    object\n",
       "SUFFIX                  object\n",
       "MAIDEN                  object\n",
       "MARITAL                 object\n",
       "RACE                    object\n",
       "ETHNICITY               object\n",
       "GENDER                 float64\n",
       "BIRTHPLACE              object\n",
       "ADDRESS                 object\n",
       "CITY                    object\n",
       "STATE                   object\n",
       "COUNTY                  object\n",
       "FIPS                   float64\n",
       "ZIP                      int64\n",
       "LAT                    float64\n",
       "LON                    float64\n",
       "HEALTHCARE_EXPENSES    float64\n",
       "HEALTHCARE_COVERAGE    float64\n",
       "INCOME                   int64\n",
       "dtype: object"
      ]
     },
     "execution_count": 6,
     "metadata": {},
     "output_type": "execute_result"
    }
   ],
   "source": [
    "patients.dtypes"
   ]
  },
  {
   "cell_type": "code",
   "execution_count": 9,
   "metadata": {},
   "outputs": [
    {
     "data": {
      "text/plain": [
       "Index(['PATIENT_ID', 'BIRTHDATE', 'DEATHDATE', 'SSN', 'DRIVERS', 'PASSPORT',\n",
       "       'PREFIX', 'FIRST', 'LAST', 'SUFFIX', 'MAIDEN', 'MARITAL', 'RACE',\n",
       "       'ETHNICITY', 'GENDER', 'BIRTHPLACE', 'ADDRESS', 'CITY', 'STATE',\n",
       "       'COUNTY', 'FIPS', 'ZIP', 'LAT', 'LON', 'HEALTHCARE_EXPENSES',\n",
       "       'HEALTHCARE_COVERAGE', 'INCOME'],\n",
       "      dtype='object')"
      ]
     },
     "execution_count": 9,
     "metadata": {},
     "output_type": "execute_result"
    }
   ],
   "source": [
    "patients.columns"
   ]
  },
  {
   "cell_type": "code",
   "execution_count": 11,
   "metadata": {},
   "outputs": [
    {
     "data": {
      "text/plain": [
       "PATIENT_ID                 0\n",
       "BIRTHDATE                  0\n",
       "DEATHDATE              10000\n",
       "SSN                        0\n",
       "DRIVERS                 2320\n",
       "PASSPORT                2961\n",
       "PREFIX                  2663\n",
       "FIRST                      0\n",
       "LAST                       0\n",
       "SUFFIX                  9941\n",
       "MAIDEN                  7648\n",
       "MARITAL                 4146\n",
       "RACE                       0\n",
       "ETHNICITY                  0\n",
       "GENDER                 10000\n",
       "BIRTHPLACE                 0\n",
       "ADDRESS                    0\n",
       "CITY                       0\n",
       "STATE                      0\n",
       "COUNTY                     0\n",
       "FIPS                     290\n",
       "ZIP                        0\n",
       "LAT                        0\n",
       "LON                        0\n",
       "HEALTHCARE_EXPENSES        0\n",
       "HEALTHCARE_COVERAGE        0\n",
       "INCOME                     0\n",
       "dtype: int64"
      ]
     },
     "execution_count": 11,
     "metadata": {},
     "output_type": "execute_result"
    }
   ],
   "source": [
    "patients.isna().sum()"
   ]
  },
  {
   "cell_type": "markdown",
   "metadata": {},
   "source": [
    "So we can see in the above output we have missing values in many columns and our gender column in empty"
   ]
  },
  {
   "cell_type": "code",
   "execution_count": null,
   "metadata": {},
   "outputs": [
    {
     "data": {
      "text/plain": [
       "0       False\n",
       "1       False\n",
       "2       False\n",
       "3       False\n",
       "4       False\n",
       "        ...  \n",
       "9995    False\n",
       "9996    False\n",
       "9997    False\n",
       "9998    False\n",
       "9999    False\n",
       "Length: 10000, dtype: bool"
      ]
     },
     "execution_count": 14,
     "metadata": {},
     "output_type": "execute_result"
    }
   ],
   "source": [
    "# patients.duplicated()\n",
    "# patients.duplicated(subset=['PATIENT_ID'])"
   ]
  },
  {
   "cell_type": "markdown",
   "metadata": {},
   "source": [
    "We have no duplicates in the dataset"
   ]
  },
  {
   "cell_type": "code",
   "execution_count": null,
   "metadata": {},
   "outputs": [],
   "source": []
  },
  {
   "cell_type": "code",
   "execution_count": null,
   "metadata": {},
   "outputs": [],
   "source": []
  }
 ],
 "metadata": {
  "kernelspec": {
   "display_name": "Python 3",
   "language": "python",
   "name": "python3"
  },
  "language_info": {
   "codemirror_mode": {
    "name": "ipython",
    "version": 3
   },
   "file_extension": ".py",
   "mimetype": "text/x-python",
   "name": "python",
   "nbconvert_exporter": "python",
   "pygments_lexer": "ipython3",
   "version": "3.12.3"
  }
 },
 "nbformat": 4,
 "nbformat_minor": 2
}
